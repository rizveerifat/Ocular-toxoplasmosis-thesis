{
 "cells": [
  {
   "cell_type": "code",
   "execution_count": 1,
   "id": "acff0498",
   "metadata": {},
   "outputs": [],
   "source": [
    "import numpy as np \n",
    "import pandas as pd \n",
    "import random\n",
    "import io\n",
    "import os\n",
    "import cv2\n",
    "import matplotlib.pyplot as plt\n",
    "import seaborn as sns\n",
    "import time\n",
    "from tqdm import tqdm\n",
    "from sklearn.metrics import classification_report,confusion_matrix,ConfusionMatrixDisplay\n",
    "from sklearn.metrics import roc_auc_score,cohen_kappa_score,matthews_corrcoef\n",
    "from sklearn.model_selection import train_test_split\n",
    "from IPython.display import Image,display,clear_output\n",
    "import pywt\n",
    "\n",
    "import tensorflow as tf\n",
    "from keras.utils.vis_utils import plot_model\n",
    "from sklearn.metrics import classification_report\n",
    "from sklearn.utils import shuffle\n",
    "from tensorflow.keras.utils import to_categorical\n",
    "from sklearn.preprocessing import LabelEncoder\n",
    "from collections import Counter\n",
    "\n",
    "import keras\n",
    "from tensorflow.keras import layers\n",
    "from tensorflow.keras.utils import plot_model\n",
    "from tensorflow.keras.callbacks import ReduceLROnPlateau, CSVLogger\n",
    "from tensorflow.keras.applications.vgg16 import VGG16 , preprocess_input\n",
    "\n",
    "from tensorflow.keras import Model, layers\n",
    "from tensorflow.keras import models\n",
    "from tensorflow.keras.models import Sequential\n",
    "from tensorflow.keras.preprocessing.image import ImageDataGenerator\n",
    "from tensorflow.keras.optimizers import Adam, SGD\n",
    "from tensorflow.keras.layers import Dropout,Dense,Input,Conv2D,MaxPooling2D,Flatten,Activation"
   ]
  },
  {
   "cell_type": "code",
   "execution_count": 2,
   "id": "4019c90c",
   "metadata": {},
   "outputs": [],
   "source": [
    "import warnings\n",
    "warnings.filterwarnings('ignore')"
   ]
  },
  {
   "cell_type": "code",
   "execution_count": 3,
   "id": "e17f23da",
   "metadata": {},
   "outputs": [
    {
     "name": "stdout",
     "output_type": "stream",
     "text": [
      "Number of images in training:  4000\n",
      "Number of images in testing:  1200\n"
     ]
    },
    {
     "data": {
      "image/png": "[encoded data removed]",
      "text/plain": [
       "<Figure size 864x360 with 2 Axes>"
      ]
     },
     "metadata": {
      "needs_background": "light"
     },
     "output_type": "display_data"
    }
   ],
   "source": [
    "root_path = 'D:\\\\Prionto\\\\'\n",
    "labels = []\n",
    "trainFolder = root_path+'\\\\Train\\\\'\n",
    "testFolder = root_path+'\\\\Test\\\\'\n",
    "\n",
    "quantity_tr = {} \n",
    "quantity_te = {}\n",
    "for folder in os.listdir(trainFolder):\n",
    "    quantity_tr[folder] = len(os.listdir(trainFolder+folder))\n",
    "    labels.append(folder)\n",
    "    \n",
    "for folder in os.listdir(testFolder):\n",
    "    quantity_te[folder] = len(os.listdir(testFolder+folder))\n",
    "    \n",
    "    \n",
    "quantity_train = pd.DataFrame(list(quantity_tr.items()),\n",
    "                              index=range(0,len(quantity_tr)), columns=['class','count'])\n",
    "\n",
    "quantity_test = pd.DataFrame(list(quantity_te.items()),\n",
    "                              index=range(0,len(quantity_te)), columns=['class','count'])\n",
    "\n",
    "figure, ax = plt.subplots(1,2,figsize=(12,5))\n",
    "sns.barplot(x='class',y='count',data=quantity_train,ax=ax[0])\n",
    "sns.barplot(x='class',y='count',data=quantity_test,ax=ax[1])\n",
    "\n",
    "print(\"Number of images in training: \", sum(quantity_tr.values()))\n",
    "print(\"Number of images in testing: \", sum(quantity_te.values()))\n",
    "\n",
    "plt.show()"
   ]
  },
  {
   "cell_type": "code",
   "execution_count": 4,
   "id": "fd62c45d",
   "metadata": {},
   "outputs": [
    {
     "data": {
      "text/plain": [
       "['healthy', 'unhealthy']"
      ]
     },
     "execution_count": 4,
     "metadata": {},
     "output_type": "execute_result"
    }
   ],
   "source": [
    "img_height = img_width = 128\n",
    "batch_size = 32\n",
    "labels"
   ]
  },
  {
   "cell_type": "code",
   "execution_count": 5,
   "id": "d8140811",
   "metadata": {},
   "outputs": [
    {
     "name": "stderr",
     "output_type": "stream",
     "text": [
      "100%|█████████████████████████████████████████████████████████████████████████████| 2000/2000 [00:08<00:00, 231.67it/s]\n",
      "100%|█████████████████████████████████████████████████████████████████████████████| 2000/2000 [00:09<00:00, 219.98it/s]\n",
      "100%|███████████████████████████████████████████████████████████████████████████████| 600/600 [00:02<00:00, 245.32it/s]\n",
      "100%|███████████████████████████████████████████████████████████████████████████████| 600/600 [00:02<00:00, 229.09it/s]\n"
     ]
    }
   ],
   "source": [
    "X_train = []\n",
    "y_train = []\n",
    "\n",
    "X_test = []\n",
    "y_test = []\n",
    "\n",
    "for i in labels:\n",
    "    folderPath = os.path.join(root_path,'Train',i)\n",
    "    for j in tqdm(os.listdir(folderPath)):\n",
    "        img = cv2.imread(os.path.join(folderPath,j), 1)\n",
    "        img = cv2.resize(img,(img_height, img_width))\n",
    "        X_train.append(img)\n",
    "        y_train.append(i)\n",
    "        \n",
    "for i in labels:\n",
    "    folderPath = os.path.join(root_path,'Test',i)\n",
    "    for j in tqdm(os.listdir(folderPath)):\n",
    "        img = cv2.imread(os.path.join(folderPath,j), 1)\n",
    "        img = cv2.resize(img,(img_height, img_width))\n",
    "        X_test.append(img)\n",
    "        y_test.append(i)"
   ]
  },
  {
   "cell_type": "code",
   "execution_count": 6,
   "id": "40cfc999",
   "metadata": {},
   "outputs": [],
   "source": [
    "X_train = np.array(X_train)\n",
    "y_train = np.array(y_train)\n",
    "\n",
    "X_test = np.array(X_test)\n",
    "y_test = np.array(y_test)"
   ]
  },
  {
   "cell_type": "code",
   "execution_count": 7,
   "id": "1cd688ba",
   "metadata": {},
   "outputs": [
    {
     "name": "stdout",
     "output_type": "stream",
     "text": [
      "0 255\n"
     ]
    }
   ],
   "source": [
    "print(np.min(X_train), np.max(X_train))"
   ]
  },
  {
   "cell_type": "code",
   "execution_count": 8,
   "id": "07ab0f61",
   "metadata": {},
   "outputs": [],
   "source": [
    "X_train=X_train/255.0\n",
    "X_test=X_test/255.0"
   ]
  },
  {
   "cell_type": "code",
   "execution_count": 9,
   "id": "21af90a1",
   "metadata": {},
   "outputs": [
    {
     "name": "stdout",
     "output_type": "stream",
     "text": [
      "0.0 1.0\n"
     ]
    }
   ],
   "source": [
    "print(np.min(X_train), np.max(X_train))"
   ]
  },
  {
   "cell_type": "code",
   "execution_count": 10,
   "id": "0550b0be",
   "metadata": {},
   "outputs": [
    {
     "name": "stdout",
     "output_type": "stream",
     "text": [
      "(4000, 128, 128, 3) (4000,)\n",
      "(1200, 128, 128, 3) (1200,)\n"
     ]
    }
   ],
   "source": [
    "print(X_train.shape, y_train.shape)\n",
    "print(X_test.shape, y_test.shape)"
   ]
  },
  {
   "cell_type": "code",
   "execution_count": 11,
   "id": "6a6c7c0d",
   "metadata": {},
   "outputs": [],
   "source": [
    "X_train, y_train = shuffle(X_train, y_train, random_state=0)\n",
    "X_test, y_test = shuffle(X_test, y_test, random_state=0)"
   ]
  },
  {
   "cell_type": "code",
   "execution_count": 12,
   "id": "8b885a93",
   "metadata": {},
   "outputs": [],
   "source": [
    "y_train_new = []\n",
    "for i in y_train:\n",
    "    y_train_new.append(labels.index(i))\n",
    "y_train = y_train_new\n",
    "y_train = tf.keras.utils.to_categorical(y_train)\n",
    "\n",
    "y_test_new = []\n",
    "for i in y_test:\n",
    "    y_test_new.append(labels.index(i))\n",
    "y_test = y_test_new\n",
    "y_test = tf.keras.utils.to_categorical(y_test)"
   ]
  },
  {
   "cell_type": "code",
   "execution_count": 13,
   "id": "0cac7c73",
   "metadata": {},
   "outputs": [
    {
     "name": "stdout",
     "output_type": "stream",
     "text": [
      "(4000, 128, 128, 3) (4000, 2)\n",
      "(1200, 128, 128, 3) (1200, 2)\n"
     ]
    }
   ],
   "source": [
    "print(X_train.shape, y_train.shape)\n",
    "print(X_test.shape, y_test.shape)"
   ]
  },
  {
   "cell_type": "code",
   "execution_count": 14,
   "id": "b0aa1d58",
   "metadata": {},
   "outputs": [],
   "source": [
    "train_datagen = ImageDataGenerator(        \n",
    "        fill_mode=\"nearest\",\n",
    "        shear_range=0.2,\n",
    "        zoom_range=0.2,\n",
    "        horizontal_flip=True,\n",
    "        validation_split=0.1\n",
    ")\n",
    "test_datagen = ImageDataGenerator()\n",
    "\n",
    "\n",
    "train_ds = train_datagen.flow(\n",
    "  X_train, y_train,\n",
    "  subset=\"training\",\n",
    "  shuffle=True,\n",
    "  batch_size=batch_size)"
   ]
  },
  {
   "cell_type": "code",
   "execution_count": 16,
   "id": "177efb47",
   "metadata": {},
   "outputs": [],
   "source": [
    "test_ds = test_datagen.flow(\n",
    "  X_test, y_test,\n",
    "  shuffle=False,\n",
    "  batch_size=batch_size)"
   ]
  },
  {
   "cell_type": "code",
   "execution_count": 17,
   "id": "d445ebb2",
   "metadata": {},
   "outputs": [
    {
     "data": {
      "text/plain": [
       "{0: 'healthy', 1: 'unhealthy'}"
      ]
     },
     "execution_count": 17,
     "metadata": {},
     "output_type": "execute_result"
    }
   ],
   "source": [
    "j = 0\n",
    "class_mapping = {}\n",
    "for i in labels:\n",
    "    class_mapping[j] = i\n",
    "    j+=1\n",
    "    \n",
    "class_mapping"
   ]
  },
  {
   "cell_type": "code",
   "execution_count": 19,
   "id": "deadbb78",
   "metadata": {},
   "outputs": [
    {
     "name": "stdout",
     "output_type": "stream",
     "text": [
      "(32, 128, 128, 3)\n",
      "(32, 2)\n"
     ]
    }
   ],
   "source": [
    "for image_batch, labels_batch in train_ds:\n",
    "    print(image_batch.shape)\n",
    "    print(labels_batch.shape)\n",
    "    break"
   ]
  },
  {
   "cell_type": "code",
   "execution_count": 20,
   "id": "10f79985",
   "metadata": {},
   "outputs": [],
   "source": [
    "tf.keras.backend.clear_session()\n",
    "epoch = 35"
   ]
  },
  {
   "cell_type": "code",
   "execution_count": 21,
   "id": "ac8e1167",
   "metadata": {
    "scrolled": true
   },
   "outputs": [
    {
     "name": "stdout",
     "output_type": "stream",
     "text": [
      "Model: \"model\"\n",
      "_________________________________________________________________\n",
      " Layer (type)                Output Shape              Param #   \n",
      "=================================================================\n",
      " input_1 (InputLayer)        [(None, 128, 128, 3)]     0         \n",
      "                                                                 \n",
      " block1_conv1 (Conv2D)       (None, 128, 128, 64)      1792      \n",
      "                                                                 \n",
      " block1_conv2 (Conv2D)       (None, 128, 128, 64)      36928     \n",
      "                                                                 \n",
      " block1_pool (MaxPooling2D)  (None, 64, 64, 64)        0         \n",
      "                                                                 \n",
      " block2_conv1 (Conv2D)       (None, 64, 64, 128)       73856     \n",
      "                                                                 \n",
      " block2_conv2 (Conv2D)       (None, 64, 64, 128)       147584    \n",
      "                                                                 \n",
      " block2_pool (MaxPooling2D)  (None, 32, 32, 128)       0         \n",
      "                                                                 \n",
      " block3_conv1 (Conv2D)       (None, 32, 32, 256)       295168    \n",
      "                                                                 \n",
      " block3_conv2 (Conv2D)       (None, 32, 32, 256)       590080    \n",
      "                                                                 \n",
      " block3_conv3 (Conv2D)       (None, 32, 32, 256)       590080    \n",
      "                                                                 \n",
      " block3_pool (MaxPooling2D)  (None, 16, 16, 256)       0         \n",
      "                                                                 \n",
      " block4_conv1 (Conv2D)       (None, 16, 16, 512)       1180160   \n",
      "                                                                 \n",
      " block4_conv2 (Conv2D)       (None, 16, 16, 512)       2359808   \n",
      "                                                                 \n",
      " block4_conv3 (Conv2D)       (None, 16, 16, 512)       2359808   \n",
      "                                                                 \n",
      " block4_pool (MaxPooling2D)  (None, 8, 8, 512)         0         \n",
      "                                                                 \n",
      " block5_conv1 (Conv2D)       (None, 8, 8, 512)         2359808   \n",
      "                                                                 \n",
      " block5_conv2 (Conv2D)       (None, 8, 8, 512)         2359808   \n",
      "                                                                 \n",
      " block5_conv3 (Conv2D)       (None, 8, 8, 512)         2359808   \n",
      "                                                                 \n",
      " block5_pool (MaxPooling2D)  (None, 4, 4, 512)         0         \n",
      "                                                                 \n",
      " flatten (Flatten)           (None, 8192)              0         \n",
      "                                                                 \n",
      " dense (Dense)               (None, 256)               2097408   \n",
      "                                                                 \n",
      " dropout (Dropout)           (None, 256)               0         \n",
      "                                                                 \n",
      " dense_1 (Dense)             (None, 2)                 514       \n",
      "                                                                 \n",
      "=================================================================\n",
      "Total params: 16,812,610\n",
      "Trainable params: 2,097,922\n",
      "Non-trainable params: 14,714,688\n",
      "_________________________________________________________________\n"
     ]
    }
   ],
   "source": [
    "def create_model(input_shape=(img_height, img_width, 3), n_classes = len(labels), optimizer='adam', fine_tune=0):\n",
    "    \n",
    "\n",
    "    conv_base = VGG16(include_top=False,\n",
    "                     weights='imagenet',\n",
    "                     input_shape=input_shape)\n",
    "   \n",
    "    \n",
    "   \n",
    "    if fine_tune > 0:\n",
    "        for layer in conv_base.layers[:-fine_tune]:\n",
    "            layer.trainable = False\n",
    "    else:\n",
    "        for layer in conv_base.layers:\n",
    "            layer.trainable = False\n",
    "\n",
    "    \n",
    "    top_model = conv_base.output\n",
    "    top_model = Flatten(name=\"flatten\")(top_model)\n",
    "    top_model = Dense(256, activation='relu')(top_model)\n",
    "    top_model = Dropout(0.5)(top_model)\n",
    "    output_layer = Dense(n_classes, activation='sigmoid')(top_model)\n",
    "    \n",
    "    \n",
    "    model = Model(inputs=conv_base.input, outputs=output_layer)\n",
    "\n",
    "\n",
    "    \n",
    "    return model\n",
    "vgg16_final_model = create_model(fine_tune=0)\n",
    "vgg16_final_model.summary()"
   ]
  },
  {
   "cell_type": "code",
   "execution_count": 22,
   "id": "fb227a34",
   "metadata": {},
   "outputs": [],
   "source": [
    "callbacks = [\n",
    "tf.keras.callbacks.ReduceLROnPlateau(factor=0.1,\n",
    "                                     patience=5,\n",
    "                                     min_lr=0.000001,\n",
    "                                     verbose=1)]\n",
    "\n",
    "Metrics=['accuracy',\n",
    "         [tf.keras.metrics.AUC(name='auc')],\n",
    "         [tf.keras.metrics.Recall(name='recall')],\n",
    "         [tf.keras.metrics.Precision(name='precision')]]"
   ]
  },
  {
   "cell_type": "code",
   "execution_count": 23,
   "id": "995576e9",
   "metadata": {},
   "outputs": [],
   "source": [
    "vgg16_final_model.compile(optimizer='adam', loss='binary_crossentropy',metrics=Metrics)"
   ]
  },
  {
   "cell_type": "code",
   "execution_count": 24,
   "id": "55fd56aa",
   "metadata": {
    "scrolled": true
   },
   "outputs": [
    {
     "name": "stdout",
     "output_type": "stream",
     "text": [
      "Epoch 1/35\n",
      "113/113 [==============================] - 73s 642ms/step - loss: 0.6046 - accuracy: 0.7469 - auc: 0.8014 - recall: 0.7469 - precision: 0.7469 - val_loss: 0.3747 - val_accuracy: 0.8225 - val_auc: 0.9222 - val_recall: 0.8225 - val_precision: 0.8225 - lr: 0.0010\n",
      "Epoch 2/35\n",
      "113/113 [==============================] - 72s 638ms/step - loss: 0.3886 - accuracy: 0.8361 - auc: 0.9073 - recall: 0.8361 - precision: 0.8361 - val_loss: 0.3291 - val_accuracy: 0.8675 - val_auc: 0.9348 - val_recall: 0.8675 - val_precision: 0.8675 - lr: 0.0010\n",
      "Epoch 3/35\n",
      "113/113 [==============================] - 72s 636ms/step - loss: 0.3282 - accuracy: 0.8667 - auc: 0.9348 - recall: 0.8667 - precision: 0.8667 - val_loss: 0.3100 - val_accuracy: 0.8625 - val_auc: 0.9431 - val_recall: 0.8625 - val_precision: 0.8625 - lr: 0.0010\n",
      "Epoch 4/35\n",
      "113/113 [==============================] - 72s 636ms/step - loss: 0.3034 - accuracy: 0.8669 - auc: 0.9441 - recall: 0.8669 - precision: 0.8669 - val_loss: 0.2858 - val_accuracy: 0.8575 - val_auc: 0.9495 - val_recall: 0.8575 - val_precision: 0.8575 - lr: 0.0010\n",
      "Epoch 5/35\n",
      "113/113 [==============================] - 72s 637ms/step - loss: 0.2881 - accuracy: 0.8725 - auc: 0.9494 - recall: 0.8725 - precision: 0.8725 - val_loss: 0.2441 - val_accuracy: 0.9025 - val_auc: 0.9637 - val_recall: 0.9025 - val_precision: 0.9025 - lr: 0.0010\n",
      "Epoch 6/35\n",
      "113/113 [==============================] - 73s 641ms/step - loss: 0.2737 - accuracy: 0.8831 - auc: 0.9550 - recall: 0.8831 - precision: 0.8831 - val_loss: 0.2333 - val_accuracy: 0.9150 - val_auc: 0.9685 - val_recall: 0.9150 - val_precision: 0.9150 - lr: 0.0010\n",
      "Epoch 7/35\n",
      "113/113 [==============================] - 72s 637ms/step - loss: 0.2696 - accuracy: 0.8883 - auc: 0.9556 - recall: 0.8883 - precision: 0.8883 - val_loss: 0.2141 - val_accuracy: 0.9075 - val_auc: 0.9741 - val_recall: 0.9075 - val_precision: 0.9075 - lr: 0.0010\n",
      "Epoch 8/35\n",
      "113/113 [==============================] - 72s 637ms/step - loss: 0.2581 - accuracy: 0.8911 - auc: 0.9597 - recall: 0.8911 - precision: 0.8911 - val_loss: 0.2887 - val_accuracy: 0.8800 - val_auc: 0.9485 - val_recall: 0.8800 - val_precision: 0.8800 - lr: 0.0010\n",
      "Epoch 9/35\n",
      "113/113 [==============================] - 72s 638ms/step - loss: 0.2513 - accuracy: 0.8961 - auc: 0.9616 - recall: 0.8961 - precision: 0.8961 - val_loss: 0.2161 - val_accuracy: 0.9150 - val_auc: 0.9730 - val_recall: 0.9150 - val_precision: 0.9150 - lr: 0.0010\n",
      "Epoch 10/35\n",
      "113/113 [==============================] - 72s 637ms/step - loss: 0.2640 - accuracy: 0.8906 - auc: 0.9575 - recall: 0.8906 - precision: 0.8906 - val_loss: 0.2071 - val_accuracy: 0.9100 - val_auc: 0.9775 - val_recall: 0.9100 - val_precision: 0.9100 - lr: 0.0010\n",
      "Epoch 11/35\n",
      "113/113 [==============================] - 72s 636ms/step - loss: 0.2464 - accuracy: 0.9000 - auc: 0.9630 - recall: 0.9000 - precision: 0.9000 - val_loss: 0.2500 - val_accuracy: 0.8900 - val_auc: 0.9643 - val_recall: 0.8900 - val_precision: 0.8900 - lr: 0.0010\n",
      "Epoch 12/35\n",
      "113/113 [==============================] - 72s 636ms/step - loss: 0.2498 - accuracy: 0.8944 - auc: 0.9624 - recall: 0.8944 - precision: 0.8944 - val_loss: 0.1887 - val_accuracy: 0.9325 - val_auc: 0.9787 - val_recall: 0.9325 - val_precision: 0.9325 - lr: 0.0010\n",
      "Epoch 13/35\n",
      "113/113 [==============================] - 72s 637ms/step - loss: 0.2459 - accuracy: 0.9000 - auc: 0.9634 - recall: 0.9000 - precision: 0.9000 - val_loss: 0.2430 - val_accuracy: 0.8850 - val_auc: 0.9642 - val_recall: 0.8850 - val_precision: 0.8850 - lr: 0.0010\n",
      "Epoch 14/35\n",
      "113/113 [==============================] - 72s 637ms/step - loss: 0.2383 - accuracy: 0.9003 - auc: 0.9655 - recall: 0.9003 - precision: 0.9003 - val_loss: 0.1870 - val_accuracy: 0.9300 - val_auc: 0.9797 - val_recall: 0.9300 - val_precision: 0.9300 - lr: 0.0010\n",
      "Epoch 15/35\n",
      "113/113 [==============================] - 72s 637ms/step - loss: 0.2356 - accuracy: 0.8994 - auc: 0.9664 - recall: 0.8994 - precision: 0.8994 - val_loss: 0.1972 - val_accuracy: 0.9250 - val_auc: 0.9761 - val_recall: 0.9250 - val_precision: 0.9250 - lr: 0.0010\n",
      "Epoch 16/35\n",
      "113/113 [==============================] - 72s 637ms/step - loss: 0.2311 - accuracy: 0.9031 - auc: 0.9677 - recall: 0.9031 - precision: 0.9031 - val_loss: 0.2087 - val_accuracy: 0.9225 - val_auc: 0.9727 - val_recall: 0.9225 - val_precision: 0.9225 - lr: 0.0010\n",
      "Epoch 17/35\n",
      "113/113 [==============================] - 72s 637ms/step - loss: 0.2082 - accuracy: 0.9144 - auc: 0.9736 - recall: 0.9144 - precision: 0.9144 - val_loss: 0.1976 - val_accuracy: 0.9225 - val_auc: 0.9760 - val_recall: 0.9225 - val_precision: 0.9225 - lr: 0.0010\n",
      "Epoch 18/35\n",
      "113/113 [==============================] - 72s 639ms/step - loss: 0.2062 - accuracy: 0.9108 - auc: 0.9743 - recall: 0.9108 - precision: 0.9108 - val_loss: 0.1566 - val_accuracy: 0.9425 - val_auc: 0.9853 - val_recall: 0.9425 - val_precision: 0.9425 - lr: 0.0010\n",
      "Epoch 19/35\n",
      "113/113 [==============================] - 72s 639ms/step - loss: 0.2267 - accuracy: 0.8964 - auc: 0.9683 - recall: 0.8964 - precision: 0.8964 - val_loss: 0.2160 - val_accuracy: 0.9100 - val_auc: 0.9714 - val_recall: 0.9100 - val_precision: 0.9100 - lr: 0.0010\n",
      "Epoch 20/35\n",
      "113/113 [==============================] - 72s 637ms/step - loss: 0.2290 - accuracy: 0.9047 - auc: 0.9685 - recall: 0.9047 - precision: 0.9047 - val_loss: 0.1911 - val_accuracy: 0.9175 - val_auc: 0.9779 - val_recall: 0.9175 - val_precision: 0.9175 - lr: 0.0010\n",
      "Epoch 21/35\n",
      "113/113 [==============================] - 72s 637ms/step - loss: 0.2237 - accuracy: 0.9061 - auc: 0.9696 - recall: 0.9061 - precision: 0.9061 - val_loss: 0.1766 - val_accuracy: 0.9300 - val_auc: 0.9801 - val_recall: 0.9300 - val_precision: 0.9300 - lr: 0.0010\n",
      "Epoch 22/35\n",
      "113/113 [==============================] - 72s 639ms/step - loss: 0.2202 - accuracy: 0.9128 - auc: 0.9708 - recall: 0.9128 - precision: 0.9128 - val_loss: 0.2031 - val_accuracy: 0.9200 - val_auc: 0.9745 - val_recall: 0.9200 - val_precision: 0.9200 - lr: 0.0010\n",
      "Epoch 23/35\n",
      "113/113 [==============================] - ETA: 0s - loss: 0.2166 - accuracy: 0.9072 - auc: 0.9715 - recall: 0.9072 - precision: 0.9072\n",
      "Epoch 23: ReduceLROnPlateau reducing learning rate to 0.00010000000474974513.\n",
      "113/113 [==============================] - 72s 638ms/step - loss: 0.2166 - accuracy: 0.9072 - auc: 0.9715 - recall: 0.9072 - precision: 0.9072 - val_loss: 0.1785 - val_accuracy: 0.9150 - val_auc: 0.9809 - val_recall: 0.9150 - val_precision: 0.9150 - lr: 0.0010\n",
      "Epoch 24/35\n",
      "113/113 [==============================] - 72s 637ms/step - loss: 0.1899 - accuracy: 0.9136 - auc: 0.9781 - recall: 0.9136 - precision: 0.9136 - val_loss: 0.1761 - val_accuracy: 0.9350 - val_auc: 0.9811 - val_recall: 0.9350 - val_precision: 0.9350 - lr: 1.0000e-04\n",
      "Epoch 25/35\n",
      "113/113 [==============================] - 72s 637ms/step - loss: 0.1659 - accuracy: 0.9325 - auc: 0.9837 - recall: 0.9325 - precision: 0.9325 - val_loss: 0.1602 - val_accuracy: 0.9325 - val_auc: 0.9849 - val_recall: 0.9325 - val_precision: 0.9325 - lr: 1.0000e-04\n",
      "Epoch 26/35\n",
      "113/113 [==============================] - 72s 637ms/step - loss: 0.1650 - accuracy: 0.9275 - auc: 0.9834 - recall: 0.9275 - precision: 0.9275 - val_loss: 0.1436 - val_accuracy: 0.9375 - val_auc: 0.9883 - val_recall: 0.9375 - val_precision: 0.9375 - lr: 1.0000e-04\n",
      "Epoch 27/35\n",
      "113/113 [==============================] - 72s 637ms/step - loss: 0.1592 - accuracy: 0.9336 - auc: 0.9847 - recall: 0.9336 - precision: 0.9336 - val_loss: 0.1600 - val_accuracy: 0.9325 - val_auc: 0.9847 - val_recall: 0.9325 - val_precision: 0.9325 - lr: 1.0000e-04\n",
      "Epoch 28/35\n",
      "113/113 [==============================] - 72s 638ms/step - loss: 0.1533 - accuracy: 0.9311 - auc: 0.9857 - recall: 0.9311 - precision: 0.9311 - val_loss: 0.1264 - val_accuracy: 0.9450 - val_auc: 0.9903 - val_recall: 0.9450 - val_precision: 0.9450 - lr: 1.0000e-04\n",
      "Epoch 29/35\n",
      "113/113 [==============================] - 72s 639ms/step - loss: 0.1622 - accuracy: 0.9369 - auc: 0.9840 - recall: 0.9369 - precision: 0.9369 - val_loss: 0.1453 - val_accuracy: 0.9475 - val_auc: 0.9870 - val_recall: 0.9475 - val_precision: 0.9475 - lr: 1.0000e-04\n",
      "Epoch 30/35\n",
      "113/113 [==============================] - 73s 644ms/step - loss: 0.1491 - accuracy: 0.9367 - auc: 0.9865 - recall: 0.9367 - precision: 0.9367 - val_loss: 0.1686 - val_accuracy: 0.9325 - val_auc: 0.9827 - val_recall: 0.9325 - val_precision: 0.9325 - lr: 1.0000e-04\n",
      "Epoch 31/35\n",
      "113/113 [==============================] - 74s 650ms/step - loss: 0.1560 - accuracy: 0.9322 - auc: 0.9852 - recall: 0.9322 - precision: 0.9322 - val_loss: 0.1515 - val_accuracy: 0.9350 - val_auc: 0.9868 - val_recall: 0.9350 - val_precision: 0.9350 - lr: 1.0000e-04\n",
      "Epoch 32/35\n",
      "113/113 [==============================] - 72s 639ms/step - loss: 0.1518 - accuracy: 0.9367 - auc: 0.9860 - recall: 0.9367 - precision: 0.9367 - val_loss: 0.1520 - val_accuracy: 0.9400 - val_auc: 0.9859 - val_recall: 0.9400 - val_precision: 0.9400 - lr: 1.0000e-04\n",
      "Epoch 33/35\n",
      "113/113 [==============================] - ETA: 0s - loss: 0.1523 - accuracy: 0.9408 - auc: 0.9858 - recall: 0.9408 - precision: 0.9408\n",
      "Epoch 33: ReduceLROnPlateau reducing learning rate to 1.0000000474974514e-05.\n",
      "113/113 [==============================] - 73s 644ms/step - loss: 0.1523 - accuracy: 0.9408 - auc: 0.9858 - recall: 0.9408 - precision: 0.9408 - val_loss: 0.1611 - val_accuracy: 0.9450 - val_auc: 0.9841 - val_recall: 0.9450 - val_precision: 0.9450 - lr: 1.0000e-04\n",
      "Epoch 34/35\n",
      "113/113 [==============================] - 73s 647ms/step - loss: 0.1536 - accuracy: 0.9314 - auc: 0.9856 - recall: 0.9314 - precision: 0.9314 - val_loss: 0.1392 - val_accuracy: 0.9475 - val_auc: 0.9884 - val_recall: 0.9475 - val_precision: 0.9475 - lr: 1.0000e-05\n",
      "Epoch 35/35\n",
      "113/113 [==============================] - 73s 643ms/step - loss: 0.1452 - accuracy: 0.9386 - auc: 0.9870 - recall: 0.9386 - precision: 0.9386 - val_loss: 0.1526 - val_accuracy: 0.9350 - val_auc: 0.9861 - val_recall: 0.9350 - val_precision: 0.9350 - lr: 1.0000e-05\n"
     ]
    }
   ],
   "source": [
    "vgg16_history = vgg16_final_model.fit(train_ds,\n",
    "                                epochs = epoch,\n",
    "                                validation_data = val_ds,\n",
    "                                callbacks=callbacks,\n",
    "                                verbose=1)"
   ]
  },
  {
   "cell_type": "code",
   "execution_count": 25,
   "id": "d6d9cf37",
   "metadata": {},
   "outputs": [
    {
     "data": {
      "image/png": "[encoded data removed]",
      "text/plain": [
       "<Figure size 432x288 with 1 Axes>"
      ]
     },
     "metadata": {
      "needs_background": "light"
     },
     "output_type": "display_data"
    },
    {
     "data": {
      "image/png": "[encoded data removed]",
      "text/plain": [
       "<Figure size 432x288 with 1 Axes>"
      ]
     },
     "metadata": {
      "needs_background": "light"
     },
     "output_type": "display_data"
    },
    {
     "data": {
      "text/plain": [
       "<Figure size 432x288 with 0 Axes>"
      ]
     },
     "metadata": {},
     "output_type": "display_data"
    }
   ],
   "source": [
    "# plot the loss\n",
    "plt.plot(vgg16_history.history['loss'], label='train loss')\n",
    "plt.plot(vgg16_history.history['val_loss'], label='val loss')\n",
    "plt.legend()\n",
    "plt.show()\n",
    "plt.savefig('LossVal_loss')\n",
    "\n",
    "# plot the accuracy\n",
    "plt.plot(vgg16_history.history['accuracy'], label='train acc')\n",
    "plt.plot(vgg16_history.history['val_accuracy'], label='val acc')\n",
    "plt.legend()\n",
    "plt.show()\n",
    "plt.savefig('AccVal_acc')"
   ]
  },
  {
   "cell_type": "code",
   "execution_count": 26,
   "id": "8b24001d",
   "metadata": {},
   "outputs": [],
   "source": [
    "labels_pred= vgg16_final_model.predict(test_ds)"
   ]
  },
  {
   "cell_type": "code",
   "execution_count": 27,
   "id": "8ec71bbd",
   "metadata": {},
   "outputs": [],
   "source": [
    "y_pred = tf.argmax(labels_pred, axis=1)\n",
    "# y_pred"
   ]
  },
  {
   "cell_type": "code",
   "execution_count": 28,
   "id": "7aa3e941",
   "metadata": {},
   "outputs": [],
   "source": [
    "y_true = tf.argmax(y_test, axis = 1)\n",
    "# y_true"
   ]
  },
  {
   "cell_type": "code",
   "execution_count": 29,
   "id": "1e5740ec",
   "metadata": {},
   "outputs": [
    {
     "name": "stdout",
     "output_type": "stream",
     "text": [
      "              precision    recall  f1-score   support\n",
      "\n",
      "     healthy       0.95      0.93      0.94       600\n",
      "   unhealthy       0.93      0.95      0.94       600\n",
      "\n",
      "    accuracy                           0.94      1200\n",
      "   macro avg       0.94      0.94      0.94      1200\n",
      "weighted avg       0.94      0.94      0.94      1200\n",
      "\n"
     ]
    },
    {
     "data": {
      "image/png": "[encoded data removed]",
      "text/plain": [
       "<Figure size 432x288 with 2 Axes>"
      ]
     },
     "metadata": {
      "needs_background": "light"
     },
     "output_type": "display_data"
    }
   ],
   "source": [
    "print(classification_report(y_true, y_pred, target_names=labels))\n",
    "ConfusionMatrixDisplay.from_predictions(y_true, y_pred, display_labels=labels)\n",
    "plt.show()"
   ]
  }
 ],
 "metadata": {
  "kernelspec": {
   "display_name": "Python 3 (ipykernel)",
   "language": "python",
   "name": "python3"
  },
  "language_info": {
   "codemirror_mode": {
    "name": "ipython",
    "version": 3
   },
   "file_extension": ".py",
   "mimetype": "text/x-python",
   "name": "python",
   "nbconvert_exporter": "python",
   "pygments_lexer": "ipython3",
   "version": "3.9.12"
  }
 },
 "nbformat": 4,
 "nbformat_minor": 5
}
