{
 "cells": [
  {
   "cell_type": "code",
   "execution_count": 1,
   "id": "de05b804",
   "metadata": {},
   "outputs": [],
   "source": [
    "import numpy as np \n",
    "import pandas as pd \n",
    "import random\n",
    "import io\n",
    "import os\n",
    "import cv2\n",
    "import matplotlib.pyplot as plt\n",
    "import seaborn as sns\n",
    "import time\n",
    "from tqdm import tqdm\n",
    "from sklearn.metrics import classification_report,confusion_matrix,ConfusionMatrixDisplay\n",
    "from sklearn.metrics import roc_auc_score,cohen_kappa_score,matthews_corrcoef\n",
    "from sklearn.model_selection import train_test_split\n",
    "from IPython.display import Image,display,clear_output\n",
    "import pywt\n",
    "\n",
    "import tensorflow as tf\n",
    "from keras.utils.vis_utils import plot_model\n",
    "from sklearn.metrics import classification_report\n",
    "from sklearn.utils import shuffle\n",
    "from tensorflow.keras.utils import to_categorical\n",
    "from sklearn.preprocessing import LabelEncoder\n",
    "from collections import Counter\n",
    "\n",
    "import keras\n",
    "from tensorflow.keras import layers\n",
    "from tensorflow.keras.utils import plot_model\n",
    "from tensorflow.keras.callbacks import ReduceLROnPlateau, CSVLogger\n",
    "from tensorflow.keras.applications.mobilenet import MobileNet , preprocess_input\n",
    "# from tensorflow.keras.applications.efficientnet import EfficientNetB6 \n",
    "\n",
    "from tensorflow.keras import Model, layers\n",
    "from tensorflow.keras import models\n",
    "from tensorflow.keras.models import Sequential\n",
    "from tensorflow.keras.preprocessing.image import ImageDataGenerator\n",
    "from tensorflow.keras.optimizers import Adam, SGD\n",
    "from tensorflow.keras.layers import Dropout,Dense,Input,Conv2D,MaxPooling2D,Flatten,Activation"
   ]
  },
  {
   "cell_type": "code",
   "execution_count": 2,
   "id": "5096f2cf",
   "metadata": {},
   "outputs": [],
   "source": [
    "import warnings\n",
    "warnings.filterwarnings('ignore')"
   ]
  },
  {
   "cell_type": "code",
   "execution_count": 3,
   "id": "4441554f",
   "metadata": {},
   "outputs": [
    {
     "name": "stdout",
     "output_type": "stream",
     "text": [
      "Number of images in training:  4000\n",
      "Number of images in testing:  1200\n"
     ]
    },
    {
     "data": {
      "image/png": "[encoded data removed]",
      "text/plain": [
       "<Figure size 864x360 with 2 Axes>"
      ]
     },
     "metadata": {
      "needs_background": "light"
     },
     "output_type": "display_data"
    }
   ],
   "source": [
    "root_path = 'D:\\\\Prionto\\\\'\n",
    "labels = []\n",
    "trainFolder = root_path+'\\\\Train\\\\'\n",
    "testFolder = root_path+'\\\\Test\\\\'\n",
    "\n",
    "quantity_tr = {} \n",
    "quantity_te = {}\n",
    "for folder in os.listdir(trainFolder):\n",
    "    quantity_tr[folder] = len(os.listdir(trainFolder+folder))\n",
    "    labels.append(folder)\n",
    "    \n",
    "for folder in os.listdir(testFolder):\n",
    "    quantity_te[folder] = len(os.listdir(testFolder+folder))\n",
    "    \n",
    "    \n",
    "quantity_train = pd.DataFrame(list(quantity_tr.items()),\n",
    "                              index=range(0,len(quantity_tr)), columns=['class','count'])\n",
    "\n",
    "quantity_test = pd.DataFrame(list(quantity_te.items()),\n",
    "                              index=range(0,len(quantity_te)), columns=['class','count'])\n",
    "\n",
    "figure, ax = plt.subplots(1,2,figsize=(12,5))\n",
    "sns.barplot(x='class',y='count',data=quantity_train,ax=ax[0])\n",
    "sns.barplot(x='class',y='count',data=quantity_test,ax=ax[1])\n",
    "\n",
    "print(\"Number of images in training: \", sum(quantity_tr.values()))\n",
    "print(\"Number of images in testing: \", sum(quantity_te.values()))\n",
    "\n",
    "plt.show()"
   ]
  },
  {
   "cell_type": "code",
   "execution_count": 4,
   "id": "06a2c2ba",
   "metadata": {},
   "outputs": [
    {
     "data": {
      "text/plain": [
       "['healthy', 'unhealthy']"
      ]
     },
     "execution_count": 4,
     "metadata": {},
     "output_type": "execute_result"
    }
   ],
   "source": [
    "img_height = img_width = 128\n",
    "batch_size = 32\n",
    "labels"
   ]
  },
  {
   "cell_type": "code",
   "execution_count": 5,
   "id": "48da66e7",
   "metadata": {},
   "outputs": [
    {
     "name": "stderr",
     "output_type": "stream",
     "text": [
      "100%|█████████████████████████████████████████████████████████████████████████████| 2000/2000 [00:03<00:00, 576.08it/s]\n",
      "100%|█████████████████████████████████████████████████████████████████████████████| 2000/2000 [00:03<00:00, 502.65it/s]\n",
      "100%|███████████████████████████████████████████████████████████████████████████████| 600/600 [00:00<00:00, 630.19it/s]\n",
      "100%|███████████████████████████████████████████████████████████████████████████████| 600/600 [00:01<00:00, 545.24it/s]\n"
     ]
    }
   ],
   "source": [
    "X_train = []\n",
    "y_train = []\n",
    "\n",
    "X_test = []\n",
    "y_test = []\n",
    "\n",
    "for i in labels:\n",
    "    folderPath = os.path.join(root_path,'Train',i)\n",
    "    for j in tqdm(os.listdir(folderPath)):\n",
    "        img = cv2.imread(os.path.join(folderPath,j), 1)\n",
    "        img = cv2.resize(img,(img_height, img_width))\n",
    "        X_train.append(img)\n",
    "        y_train.append(i)\n",
    "        \n",
    "for i in labels:\n",
    "    folderPath = os.path.join(root_path,'Test',i)\n",
    "    for j in tqdm(os.listdir(folderPath)):\n",
    "        img = cv2.imread(os.path.join(folderPath,j), 1)\n",
    "        img = cv2.resize(img,(img_height, img_width))\n",
    "        X_test.append(img)\n",
    "        y_test.append(i)"
   ]
  },
  {
   "cell_type": "code",
   "execution_count": 6,
   "id": "804bbb71",
   "metadata": {},
   "outputs": [],
   "source": [
    "X_train = np.array(X_train)\n",
    "y_train = np.array(y_train)\n",
    "\n",
    "X_test = np.array(X_test)\n",
    "y_test = np.array(y_test)"
   ]
  },
  {
   "cell_type": "code",
   "execution_count": 7,
   "id": "c73b8ba0",
   "metadata": {},
   "outputs": [
    {
     "name": "stdout",
     "output_type": "stream",
     "text": [
      "0 255\n"
     ]
    }
   ],
   "source": [
    "print(np.min(X_train), np.max(X_train))"
   ]
  },
  {
   "cell_type": "code",
   "execution_count": 8,
   "id": "25f56339",
   "metadata": {},
   "outputs": [],
   "source": [
    "X_train=X_train/255.0\n",
    "X_test=X_test/255.0"
   ]
  },
  {
   "cell_type": "code",
   "execution_count": 9,
   "id": "62057ce8",
   "metadata": {},
   "outputs": [
    {
     "name": "stdout",
     "output_type": "stream",
     "text": [
      "0.0 1.0\n"
     ]
    }
   ],
   "source": [
    "print(np.min(X_train), np.max(X_train))"
   ]
  },
  {
   "cell_type": "code",
   "execution_count": 10,
   "id": "16a3c90d",
   "metadata": {},
   "outputs": [
    {
     "name": "stdout",
     "output_type": "stream",
     "text": [
      "(4000, 128, 128, 3) (4000,)\n",
      "(1200, 128, 128, 3) (1200,)\n"
     ]
    }
   ],
   "source": [
    "print(X_train.shape, y_train.shape)\n",
    "print(X_test.shape, y_test.shape)"
   ]
  },
  {
   "cell_type": "code",
   "execution_count": 11,
   "id": "e8ef32cd",
   "metadata": {},
   "outputs": [],
   "source": [
    "X_train, y_train = shuffle(X_train, y_train, random_state=0)\n",
    "X_test, y_test = shuffle(X_test, y_test, random_state=0)"
   ]
  },
  {
   "cell_type": "code",
   "execution_count": 12,
   "id": "3d92f407",
   "metadata": {},
   "outputs": [],
   "source": [
    "y_train_new = []\n",
    "for i in y_train:\n",
    "    y_train_new.append(labels.index(i))\n",
    "y_train = y_train_new\n",
    "y_train = tf.keras.utils.to_categorical(y_train)\n",
    "\n",
    "y_test_new = []\n",
    "for i in y_test:\n",
    "    y_test_new.append(labels.index(i))\n",
    "y_test = y_test_new\n",
    "y_test = tf.keras.utils.to_categorical(y_test)"
   ]
  },
  {
   "cell_type": "code",
   "execution_count": 13,
   "id": "86882c72",
   "metadata": {},
   "outputs": [
    {
     "name": "stdout",
     "output_type": "stream",
     "text": [
      "(4000, 128, 128, 3) (4000, 2)\n",
      "(1200, 128, 128, 3) (1200, 2)\n"
     ]
    }
   ],
   "source": [
    "print(X_train.shape, y_train.shape)\n",
    "print(X_test.shape, y_test.shape)"
   ]
  },
  {
   "cell_type": "code",
   "execution_count": 14,
   "id": "8717e197",
   "metadata": {},
   "outputs": [],
   "source": [
    "train_datagen = ImageDataGenerator(        \n",
    "        fill_mode=\"nearest\",\n",
    "        shear_range=0.2,\n",
    "        zoom_range=0.2,\n",
    "        horizontal_flip=True,\n",
    "        validation_split=0.1\n",
    ")\n",
    "test_datagen = ImageDataGenerator()\n",
    "\n",
    "\n",
    "train_ds = train_datagen.flow(\n",
    "  X_train, y_train,\n",
    "  subset=\"training\",\n",
    "  shuffle=True,\n",
    "  batch_size=batch_size)"
   ]
  },
  {
   "cell_type": "code",
   "execution_count": 15,
   "id": "30990132",
   "metadata": {},
   "outputs": [],
   "source": [
    "val_ds = train_datagen.flow(\n",
    "  X_train, y_train,\n",
    "  subset=\"validation\",\n",
    "  shuffle=True,\n",
    "  batch_size=batch_size)"
   ]
  },
  {
   "cell_type": "code",
   "execution_count": 16,
   "id": "9ea40a3c",
   "metadata": {},
   "outputs": [],
   "source": [
    "test_ds = test_datagen.flow(\n",
    "  X_test, y_test,\n",
    "  shuffle=False,\n",
    "  batch_size=batch_size)"
   ]
  },
  {
   "cell_type": "code",
   "execution_count": 17,
   "id": "015fe50a",
   "metadata": {},
   "outputs": [
    {
     "data": {
      "text/plain": [
       "{0: 'healthy', 1: 'unhealthy'}"
      ]
     },
     "execution_count": 17,
     "metadata": {},
     "output_type": "execute_result"
    }
   ],
   "source": [
    "j = 0\n",
    "class_mapping = {}\n",
    "for i in labels:\n",
    "    class_mapping[j] = i\n",
    "    j+=1\n",
    "    \n",
    "class_mapping"
   ]
  },
  {
   "cell_type": "code",
   "execution_count": 18,
   "id": "d0f8b5d3",
   "metadata": {},
   "outputs": [],
   "source": [
    "def show_few_images(number_of_examples=2, predict_using_model=None):\n",
    "    figure1, ax1 = plt.subplots(number_of_examples,len(os.listdir(testFolder)), figsize=(20,4*number_of_examples))\n",
    "    ax1 = ax1.reshape(-1)\n",
    "    axoff_fun = np.vectorize(lambda ax:ax.axis('off'))\n",
    "    axoff_fun(ax1)\n",
    "    axs = 0\n",
    "    for i, folder in enumerate(os.listdir(testFolder)):\n",
    "        image_ids = os.listdir(os.path.join(testFolder,folder))\n",
    "        for j in [random.randrange(0, len(image_ids)) for i in range(0,number_of_examples)]:\n",
    "            \n",
    "            display = cv2.imread(os.path.join(testFolder,folder,image_ids[j]),1)\n",
    "            display = cv2.resize(display, (img_height, img_width))/255.0\n",
    "            plt.axis('off')\n",
    "            ax1[axs].imshow(display)\n",
    "            title = 'True: '+folder\n",
    "            if(predict_using_model):\n",
    "                result = predict_using_model.predict(np.array([display]))\n",
    "                #print(result)\n",
    "                acc = str(round(np.max(result)*100, 3))\n",
    "                predicted_classname = class_mapping[np.argmax(result)]\n",
    "                title = title+'\\nPrediction : '+predicted_classname+\" - \"+acc+\"%\"\n",
    "            ax1[axs].set_title(title)\n",
    "            axs=axs+1"
   ]
  },
  {
   "cell_type": "code",
   "execution_count": 19,
   "id": "47eda9b4",
   "metadata": {},
   "outputs": [
    {
     "name": "stdout",
     "output_type": "stream",
     "text": [
      "(32, 128, 128, 3)\n",
      "(32, 2)\n"
     ]
    }
   ],
   "source": [
    "for image_batch, labels_batch in train_ds:\n",
    "    print(image_batch.shape)\n",
    "    print(labels_batch.shape)\n",
    "    break"
   ]
  },
  {
   "cell_type": "code",
   "execution_count": 20,
   "id": "396a481f",
   "metadata": {},
   "outputs": [],
   "source": [
    "tf.keras.backend.clear_session()\n",
    "epoch = 35"
   ]
  },
  {
   "cell_type": "code",
   "execution_count": 21,
   "id": "77f560cc",
   "metadata": {},
   "outputs": [
    {
     "name": "stdout",
     "output_type": "stream",
     "text": [
      "Model: \"model\"\n",
      "_________________________________________________________________\n",
      " Layer (type)                Output Shape              Param #   \n",
      "=================================================================\n",
      " input_1 (InputLayer)        [(None, 128, 128, 3)]     0         \n",
      "                                                                 \n",
      " conv1 (Conv2D)              (None, 64, 64, 32)        864       \n",
      "                                                                 \n",
      " conv1_bn (BatchNormalizatio  (None, 64, 64, 32)       128       \n",
      " n)                                                              \n",
      "                                                                 \n",
      " conv1_relu (ReLU)           (None, 64, 64, 32)        0         \n",
      "                                                                 \n",
      " conv_dw_1 (DepthwiseConv2D)  (None, 64, 64, 32)       288       \n",
      "                                                                 \n",
      " conv_dw_1_bn (BatchNormaliz  (None, 64, 64, 32)       128       \n",
      " ation)                                                          \n",
      "                                                                 \n",
      " conv_dw_1_relu (ReLU)       (None, 64, 64, 32)        0         \n",
      "                                                                 \n",
      " conv_pw_1 (Conv2D)          (None, 64, 64, 64)        2048      \n",
      "                                                                 \n",
      " conv_pw_1_bn (BatchNormaliz  (None, 64, 64, 64)       256       \n",
      " ation)                                                          \n",
      "                                                                 \n",
      " conv_pw_1_relu (ReLU)       (None, 64, 64, 64)        0         \n",
      "                                                                 \n",
      " conv_pad_2 (ZeroPadding2D)  (None, 65, 65, 64)        0         \n",
      "                                                                 \n",
      " conv_dw_2 (DepthwiseConv2D)  (None, 32, 32, 64)       576       \n",
      "                                                                 \n",
      " conv_dw_2_bn (BatchNormaliz  (None, 32, 32, 64)       256       \n",
      " ation)                                                          \n",
      "                                                                 \n",
      " conv_dw_2_relu (ReLU)       (None, 32, 32, 64)        0         \n",
      "                                                                 \n",
      " conv_pw_2 (Conv2D)          (None, 32, 32, 128)       8192      \n",
      "                                                                 \n",
      " conv_pw_2_bn (BatchNormaliz  (None, 32, 32, 128)      512       \n",
      " ation)                                                          \n",
      "                                                                 \n",
      " conv_pw_2_relu (ReLU)       (None, 32, 32, 128)       0         \n",
      "                                                                 \n",
      " conv_dw_3 (DepthwiseConv2D)  (None, 32, 32, 128)      1152      \n",
      "                                                                 \n",
      " conv_dw_3_bn (BatchNormaliz  (None, 32, 32, 128)      512       \n",
      " ation)                                                          \n",
      "                                                                 \n",
      " conv_dw_3_relu (ReLU)       (None, 32, 32, 128)       0         \n",
      "                                                                 \n",
      " conv_pw_3 (Conv2D)          (None, 32, 32, 128)       16384     \n",
      "                                                                 \n",
      " conv_pw_3_bn (BatchNormaliz  (None, 32, 32, 128)      512       \n",
      " ation)                                                          \n",
      "                                                                 \n",
      " conv_pw_3_relu (ReLU)       (None, 32, 32, 128)       0         \n",
      "                                                                 \n",
      " conv_pad_4 (ZeroPadding2D)  (None, 33, 33, 128)       0         \n",
      "                                                                 \n",
      " conv_dw_4 (DepthwiseConv2D)  (None, 16, 16, 128)      1152      \n",
      "                                                                 \n",
      " conv_dw_4_bn (BatchNormaliz  (None, 16, 16, 128)      512       \n",
      " ation)                                                          \n",
      "                                                                 \n",
      " conv_dw_4_relu (ReLU)       (None, 16, 16, 128)       0         \n",
      "                                                                 \n",
      " conv_pw_4 (Conv2D)          (None, 16, 16, 256)       32768     \n",
      "                                                                 \n",
      " conv_pw_4_bn (BatchNormaliz  (None, 16, 16, 256)      1024      \n",
      " ation)                                                          \n",
      "                                                                 \n",
      " conv_pw_4_relu (ReLU)       (None, 16, 16, 256)       0         \n",
      "                                                                 \n",
      " conv_dw_5 (DepthwiseConv2D)  (None, 16, 16, 256)      2304      \n",
      "                                                                 \n",
      " conv_dw_5_bn (BatchNormaliz  (None, 16, 16, 256)      1024      \n",
      " ation)                                                          \n",
      "                                                                 \n",
      " conv_dw_5_relu (ReLU)       (None, 16, 16, 256)       0         \n",
      "                                                                 \n",
      " conv_pw_5 (Conv2D)          (None, 16, 16, 256)       65536     \n",
      "                                                                 \n",
      " conv_pw_5_bn (BatchNormaliz  (None, 16, 16, 256)      1024      \n",
      " ation)                                                          \n",
      "                                                                 \n",
      " conv_pw_5_relu (ReLU)       (None, 16, 16, 256)       0         \n",
      "                                                                 \n",
      " conv_pad_6 (ZeroPadding2D)  (None, 17, 17, 256)       0         \n",
      "                                                                 \n",
      " conv_dw_6 (DepthwiseConv2D)  (None, 8, 8, 256)        2304      \n",
      "                                                                 \n",
      " conv_dw_6_bn (BatchNormaliz  (None, 8, 8, 256)        1024      \n",
      " ation)                                                          \n",
      "                                                                 \n",
      " conv_dw_6_relu (ReLU)       (None, 8, 8, 256)         0         \n",
      "                                                                 \n",
      " conv_pw_6 (Conv2D)          (None, 8, 8, 512)         131072    \n",
      "                                                                 \n",
      " conv_pw_6_bn (BatchNormaliz  (None, 8, 8, 512)        2048      \n",
      " ation)                                                          \n",
      "                                                                 \n",
      " conv_pw_6_relu (ReLU)       (None, 8, 8, 512)         0         \n",
      "                                                                 \n",
      " conv_dw_7 (DepthwiseConv2D)  (None, 8, 8, 512)        4608      \n",
      "                                                                 \n",
      " conv_dw_7_bn (BatchNormaliz  (None, 8, 8, 512)        2048      \n",
      " ation)                                                          \n",
      "                                                                 \n",
      " conv_dw_7_relu (ReLU)       (None, 8, 8, 512)         0         \n",
      "                                                                 \n",
      " conv_pw_7 (Conv2D)          (None, 8, 8, 512)         262144    \n",
      "                                                                 \n",
      " conv_pw_7_bn (BatchNormaliz  (None, 8, 8, 512)        2048      \n",
      " ation)                                                          \n",
      "                                                                 \n",
      " conv_pw_7_relu (ReLU)       (None, 8, 8, 512)         0         \n",
      "                                                                 \n",
      " conv_dw_8 (DepthwiseConv2D)  (None, 8, 8, 512)        4608      \n",
      "                                                                 \n",
      " conv_dw_8_bn (BatchNormaliz  (None, 8, 8, 512)        2048      \n",
      " ation)                                                          \n",
      "                                                                 \n",
      " conv_dw_8_relu (ReLU)       (None, 8, 8, 512)         0         \n",
      "                                                                 \n",
      " conv_pw_8 (Conv2D)          (None, 8, 8, 512)         262144    \n",
      "                                                                 \n",
      " conv_pw_8_bn (BatchNormaliz  (None, 8, 8, 512)        2048      \n",
      " ation)                                                          \n",
      "                                                                 \n",
      " conv_pw_8_relu (ReLU)       (None, 8, 8, 512)         0         \n",
      "                                                                 \n",
      " conv_dw_9 (DepthwiseConv2D)  (None, 8, 8, 512)        4608      \n",
      "                                                                 \n",
      " conv_dw_9_bn (BatchNormaliz  (None, 8, 8, 512)        2048      \n",
      " ation)                                                          \n",
      "                                                                 \n",
      " conv_dw_9_relu (ReLU)       (None, 8, 8, 512)         0         \n",
      "                                                                 \n",
      " conv_pw_9 (Conv2D)          (None, 8, 8, 512)         262144    \n",
      "                                                                 \n",
      " conv_pw_9_bn (BatchNormaliz  (None, 8, 8, 512)        2048      \n",
      " ation)                                                          \n",
      "                                                                 \n",
      " conv_pw_9_relu (ReLU)       (None, 8, 8, 512)         0         \n",
      "                                                                 \n",
      " conv_dw_10 (DepthwiseConv2D  (None, 8, 8, 512)        4608      \n",
      " )                                                               \n",
      "                                                                 \n",
      " conv_dw_10_bn (BatchNormali  (None, 8, 8, 512)        2048      \n",
      " zation)                                                         \n",
      "                                                                 \n",
      " conv_dw_10_relu (ReLU)      (None, 8, 8, 512)         0         \n",
      "                                                                 \n",
      " conv_pw_10 (Conv2D)         (None, 8, 8, 512)         262144    \n",
      "                                                                 \n",
      " conv_pw_10_bn (BatchNormali  (None, 8, 8, 512)        2048      \n",
      " zation)                                                         \n",
      "                                                                 \n",
      " conv_pw_10_relu (ReLU)      (None, 8, 8, 512)         0         \n",
      "                                                                 \n",
      " conv_dw_11 (DepthwiseConv2D  (None, 8, 8, 512)        4608      \n",
      " )                                                               \n",
      "                                                                 \n",
      " conv_dw_11_bn (BatchNormali  (None, 8, 8, 512)        2048      \n",
      " zation)                                                         \n",
      "                                                                 \n",
      " conv_dw_11_relu (ReLU)      (None, 8, 8, 512)         0         \n",
      "                                                                 \n",
      " conv_pw_11 (Conv2D)         (None, 8, 8, 512)         262144    \n",
      "                                                                 \n",
      " conv_pw_11_bn (BatchNormali  (None, 8, 8, 512)        2048      \n",
      " zation)                                                         \n",
      "                                                                 \n",
      " conv_pw_11_relu (ReLU)      (None, 8, 8, 512)         0         \n",
      "                                                                 \n",
      " conv_pad_12 (ZeroPadding2D)  (None, 9, 9, 512)        0         \n",
      "                                                                 \n",
      " conv_dw_12 (DepthwiseConv2D  (None, 4, 4, 512)        4608      \n",
      " )                                                               \n",
      "                                                                 \n",
      " conv_dw_12_bn (BatchNormali  (None, 4, 4, 512)        2048      \n",
      " zation)                                                         \n",
      "                                                                 \n",
      " conv_dw_12_relu (ReLU)      (None, 4, 4, 512)         0         \n",
      "                                                                 \n",
      " conv_pw_12 (Conv2D)         (None, 4, 4, 1024)        524288    \n",
      "                                                                 \n",
      " conv_pw_12_bn (BatchNormali  (None, 4, 4, 1024)       4096      \n",
      " zation)                                                         \n",
      "                                                                 \n",
      " conv_pw_12_relu (ReLU)      (None, 4, 4, 1024)        0         \n",
      "                                                                 \n",
      " conv_dw_13 (DepthwiseConv2D  (None, 4, 4, 1024)       9216      \n",
      " )                                                               \n",
      "                                                                 \n",
      " conv_dw_13_bn (BatchNormali  (None, 4, 4, 1024)       4096      \n",
      " zation)                                                         \n",
      "                                                                 \n",
      " conv_dw_13_relu (ReLU)      (None, 4, 4, 1024)        0         \n",
      "                                                                 \n",
      " conv_pw_13 (Conv2D)         (None, 4, 4, 1024)        1048576   \n",
      "                                                                 \n",
      " conv_pw_13_bn (BatchNormali  (None, 4, 4, 1024)       4096      \n",
      " zation)                                                         \n",
      "                                                                 \n",
      " conv_pw_13_relu (ReLU)      (None, 4, 4, 1024)        0         \n",
      "                                                                 \n",
      " flatten (Flatten)           (None, 16384)             0         \n",
      "                                                                 \n",
      " dense (Dense)               (None, 256)               4194560   \n",
      "                                                                 \n",
      " dropout (Dropout)           (None, 256)               0         \n",
      "                                                                 \n",
      " dense_1 (Dense)             (None, 2)                 514       \n",
      "                                                                 \n",
      "=================================================================\n",
      "Total params: 7,423,938\n",
      "Trainable params: 4,195,074\n",
      "Non-trainable params: 3,228,864\n",
      "_________________________________________________________________\n"
     ]
    }
   ],
   "source": [
    "def create_model(input_shape=(img_height, img_width, 3), n_classes = len(labels), optimizer='adam', fine_tune=0):\n",
    "   \n",
    "    conv_base = MobileNet(include_top=False,\n",
    "                     weights='imagenet',\n",
    "                     input_shape=input_shape)\n",
    "   \n",
    "    \n",
    "    if fine_tune > 0:\n",
    "        for layer in conv_base.layers[:-fine_tune]:\n",
    "            layer.trainable = False\n",
    "    else:\n",
    "        for layer in conv_base.layers:\n",
    "            layer.trainable = False\n",
    "\n",
    "    \n",
    "    top_model = conv_base.output\n",
    "    top_model = Flatten(name=\"flatten\")(top_model)\n",
    "    top_model = Dense(256, activation='relu')(top_model)\n",
    "    top_model = Dropout(0.5)(top_model)\n",
    "    output_layer = Dense(n_classes, activation='sigmoid')(top_model)\n",
    "    \n",
    "    model = Model(inputs=conv_base.input, outputs=output_layer)\n",
    "\n",
    "    return model\n",
    "mobilenet_final_model = create_model(fine_tune=0)\n",
    "mobilenet_final_model.summary()"
   ]
  },
  {
   "cell_type": "code",
   "execution_count": 22,
   "id": "e5d2f73f",
   "metadata": {},
   "outputs": [],
   "source": [
    "callbacks = [\n",
    "tf.keras.callbacks.ReduceLROnPlateau(factor=0.1,\n",
    "                                     patience=5,\n",
    "                                     min_lr=0.000001,\n",
    "                                     verbose=1)]\n",
    "\n",
    "Metrics=['accuracy',\n",
    "         [tf.keras.metrics.AUC(name='auc')],\n",
    "         [tf.keras.metrics.Recall(name='recall')],\n",
    "         [tf.keras.metrics.Precision(name='precision')]]"
   ]
  },
  {
   "cell_type": "code",
   "execution_count": 23,
   "id": "0f913d7b",
   "metadata": {},
   "outputs": [],
   "source": [
    "mobilenet_final_model.compile(optimizer='adam', loss='binary_crossentropy',metrics=Metrics)"
   ]
  },
  {
   "cell_type": "code",
   "execution_count": 24,
   "id": "416af449",
   "metadata": {
    "scrolled": true
   },
   "outputs": [
    {
     "name": "stdout",
     "output_type": "stream",
     "text": [
      "Epoch 1/35\n",
      "113/113 [==============================] - 17s 134ms/step - loss: 0.7526 - accuracy: 0.8006 - auc: 0.8467 - recall: 0.8061 - precision: 0.7757 - val_loss: 0.2436 - val_accuracy: 0.9075 - val_auc: 0.9676 - val_recall: 0.9075 - val_precision: 0.9007 - lr: 0.0010\n",
      "Epoch 2/35\n",
      "113/113 [==============================] - 14s 128ms/step - loss: 0.2940 - accuracy: 0.8836 - auc: 0.9487 - recall: 0.8778 - precision: 0.8822 - val_loss: 0.2159 - val_accuracy: 0.9050 - val_auc: 0.9736 - val_recall: 0.9025 - val_precision: 0.9048 - lr: 0.0010\n",
      "Epoch 3/35\n",
      "113/113 [==============================] - 14s 127ms/step - loss: 0.2507 - accuracy: 0.8922 - auc: 0.9621 - recall: 0.8917 - precision: 0.8927 - val_loss: 0.1755 - val_accuracy: 0.9325 - val_auc: 0.9827 - val_recall: 0.9275 - val_precision: 0.9440 - lr: 0.0010\n",
      "Epoch 4/35\n",
      "113/113 [==============================] - 14s 128ms/step - loss: 0.2486 - accuracy: 0.9006 - auc: 0.9635 - recall: 0.8961 - precision: 0.9024 - val_loss: 0.1586 - val_accuracy: 0.9300 - val_auc: 0.9846 - val_recall: 0.9300 - val_precision: 0.9300 - lr: 0.0010\n",
      "Epoch 5/35\n",
      "113/113 [==============================] - 14s 128ms/step - loss: 0.2261 - accuracy: 0.9061 - auc: 0.9690 - recall: 0.9022 - precision: 0.9062 - val_loss: 0.1373 - val_accuracy: 0.9400 - val_auc: 0.9892 - val_recall: 0.9400 - val_precision: 0.9400 - lr: 0.0010\n",
      "Epoch 6/35\n",
      "113/113 [==============================] - 15s 128ms/step - loss: 0.2198 - accuracy: 0.9094 - auc: 0.9708 - recall: 0.9047 - precision: 0.9095 - val_loss: 0.1393 - val_accuracy: 0.9475 - val_auc: 0.9884 - val_recall: 0.9475 - val_precision: 0.9475 - lr: 0.0010\n",
      "Epoch 7/35\n",
      "113/113 [==============================] - 15s 129ms/step - loss: 0.2020 - accuracy: 0.9142 - auc: 0.9753 - recall: 0.9136 - precision: 0.9151 - val_loss: 0.1120 - val_accuracy: 0.9600 - val_auc: 0.9929 - val_recall: 0.9600 - val_precision: 0.9600 - lr: 0.0010\n",
      "Epoch 8/35\n",
      "113/113 [==============================] - 15s 130ms/step - loss: 0.1855 - accuracy: 0.9219 - auc: 0.9792 - recall: 0.9214 - precision: 0.9224 - val_loss: 0.1168 - val_accuracy: 0.9575 - val_auc: 0.9915 - val_recall: 0.9575 - val_precision: 0.9575 - lr: 0.0010\n",
      "Epoch 9/35\n",
      "113/113 [==============================] - 15s 129ms/step - loss: 0.1744 - accuracy: 0.9258 - auc: 0.9813 - recall: 0.9267 - precision: 0.9256 - val_loss: 0.1273 - val_accuracy: 0.9425 - val_auc: 0.9896 - val_recall: 0.9425 - val_precision: 0.9425 - lr: 0.0010\n",
      "Epoch 10/35\n",
      "113/113 [==============================] - 15s 134ms/step - loss: 0.1644 - accuracy: 0.9325 - auc: 0.9839 - recall: 0.9311 - precision: 0.9337 - val_loss: 0.1284 - val_accuracy: 0.9475 - val_auc: 0.9901 - val_recall: 0.9475 - val_precision: 0.9475 - lr: 0.0010\n",
      "Epoch 11/35\n",
      "113/113 [==============================] - 15s 129ms/step - loss: 0.1710 - accuracy: 0.9264 - auc: 0.9816 - recall: 0.9256 - precision: 0.9258 - val_loss: 0.1132 - val_accuracy: 0.9550 - val_auc: 0.9908 - val_recall: 0.9525 - val_precision: 0.9549 - lr: 0.0010\n",
      "Epoch 12/35\n",
      "113/113 [==============================] - ETA: 0s - loss: 0.1543 - accuracy: 0.9322 - auc: 0.9850 - recall: 0.9317 - precision: 0.9322\n",
      "Epoch 12: ReduceLROnPlateau reducing learning rate to 0.00010000000474974513.\n",
      "113/113 [==============================] - 15s 129ms/step - loss: 0.1543 - accuracy: 0.9322 - auc: 0.9850 - recall: 0.9317 - precision: 0.9322 - val_loss: 0.1237 - val_accuracy: 0.9525 - val_auc: 0.9909 - val_recall: 0.9525 - val_precision: 0.9525 - lr: 0.0010\n",
      "Epoch 13/35\n",
      "113/113 [==============================] - 15s 130ms/step - loss: 0.1414 - accuracy: 0.9400 - auc: 0.9881 - recall: 0.9397 - precision: 0.9402 - val_loss: 0.0962 - val_accuracy: 0.9675 - val_auc: 0.9926 - val_recall: 0.9675 - val_precision: 0.9675 - lr: 1.0000e-04\n",
      "Epoch 14/35\n",
      "113/113 [==============================] - 15s 129ms/step - loss: 0.1248 - accuracy: 0.9525 - auc: 0.9909 - recall: 0.9519 - precision: 0.9519 - val_loss: 0.1143 - val_accuracy: 0.9625 - val_auc: 0.9912 - val_recall: 0.9625 - val_precision: 0.9601 - lr: 1.0000e-04\n",
      "Epoch 15/35\n",
      "113/113 [==============================] - 14s 127ms/step - loss: 0.1272 - accuracy: 0.9464 - auc: 0.9901 - recall: 0.9458 - precision: 0.9466 - val_loss: 0.0825 - val_accuracy: 0.9775 - val_auc: 0.9950 - val_recall: 0.9775 - val_precision: 0.9775 - lr: 1.0000e-04\n",
      "Epoch 16/35\n",
      "113/113 [==============================] - 14s 128ms/step - loss: 0.1232 - accuracy: 0.9506 - auc: 0.9908 - recall: 0.9497 - precision: 0.9505 - val_loss: 0.0998 - val_accuracy: 0.9700 - val_auc: 0.9940 - val_recall: 0.9700 - val_precision: 0.9700 - lr: 1.0000e-04\n",
      "Epoch 17/35\n",
      "113/113 [==============================] - 15s 128ms/step - loss: 0.1248 - accuracy: 0.9500 - auc: 0.9904 - recall: 0.9494 - precision: 0.9500 - val_loss: 0.1025 - val_accuracy: 0.9550 - val_auc: 0.9937 - val_recall: 0.9550 - val_precision: 0.9550 - lr: 1.0000e-04\n",
      "Epoch 18/35\n",
      "113/113 [==============================] - 14s 127ms/step - loss: 0.1337 - accuracy: 0.9458 - auc: 0.9891 - recall: 0.9456 - precision: 0.9461 - val_loss: 0.0748 - val_accuracy: 0.9725 - val_auc: 0.9970 - val_recall: 0.9725 - val_precision: 0.9725 - lr: 1.0000e-04\n",
      "Epoch 19/35\n",
      "113/113 [==============================] - 15s 128ms/step - loss: 0.1199 - accuracy: 0.9536 - auc: 0.9912 - recall: 0.9533 - precision: 0.9539 - val_loss: 0.0976 - val_accuracy: 0.9725 - val_auc: 0.9928 - val_recall: 0.9700 - val_precision: 0.9724 - lr: 1.0000e-04\n",
      "Epoch 20/35\n",
      "113/113 [==============================] - 14s 127ms/step - loss: 0.1100 - accuracy: 0.9564 - auc: 0.9927 - recall: 0.9567 - precision: 0.9564 - val_loss: 0.1090 - val_accuracy: 0.9625 - val_auc: 0.9935 - val_recall: 0.9625 - val_precision: 0.9625 - lr: 1.0000e-04\n",
      "Epoch 21/35\n",
      "113/113 [==============================] - 15s 131ms/step - loss: 0.1094 - accuracy: 0.9575 - auc: 0.9930 - recall: 0.9569 - precision: 0.9583 - val_loss: 0.1016 - val_accuracy: 0.9650 - val_auc: 0.9922 - val_recall: 0.9650 - val_precision: 0.9650 - lr: 1.0000e-04\n",
      "Epoch 22/35\n",
      "113/113 [==============================] - 15s 130ms/step - loss: 0.1124 - accuracy: 0.9542 - auc: 0.9923 - recall: 0.9539 - precision: 0.9542 - val_loss: 0.1005 - val_accuracy: 0.9625 - val_auc: 0.9910 - val_recall: 0.9625 - val_precision: 0.9625 - lr: 1.0000e-04\n",
      "Epoch 23/35\n",
      "113/113 [==============================] - ETA: 0s - loss: 0.1088 - accuracy: 0.9564 - auc: 0.9925 - recall: 0.9564 - precision: 0.9559\n",
      "Epoch 23: ReduceLROnPlateau reducing learning rate to 1.0000000474974514e-05.\n",
      "113/113 [==============================] - 15s 132ms/step - loss: 0.1088 - accuracy: 0.9564 - auc: 0.9925 - recall: 0.9564 - precision: 0.9559 - val_loss: 0.0928 - val_accuracy: 0.9750 - val_auc: 0.9914 - val_recall: 0.9775 - val_precision: 0.9726 - lr: 1.0000e-04\n",
      "Epoch 24/35\n",
      "113/113 [==============================] - 15s 132ms/step - loss: 0.1049 - accuracy: 0.9583 - auc: 0.9935 - recall: 0.9578 - precision: 0.9586 - val_loss: 0.0767 - val_accuracy: 0.9725 - val_auc: 0.9963 - val_recall: 0.9725 - val_precision: 0.9725 - lr: 1.0000e-05\n",
      "Epoch 25/35\n",
      "113/113 [==============================] - 15s 129ms/step - loss: 0.1133 - accuracy: 0.9547 - auc: 0.9915 - recall: 0.9550 - precision: 0.9542 - val_loss: 0.0880 - val_accuracy: 0.9625 - val_auc: 0.9936 - val_recall: 0.9625 - val_precision: 0.9649 - lr: 1.0000e-05\n",
      "Epoch 26/35\n",
      "113/113 [==============================] - 15s 129ms/step - loss: 0.1056 - accuracy: 0.9583 - auc: 0.9929 - recall: 0.9578 - precision: 0.9591 - val_loss: 0.0973 - val_accuracy: 0.9700 - val_auc: 0.9912 - val_recall: 0.9700 - val_precision: 0.9700 - lr: 1.0000e-05\n",
      "Epoch 27/35\n",
      "113/113 [==============================] - 15s 128ms/step - loss: 0.1053 - accuracy: 0.9547 - auc: 0.9931 - recall: 0.9553 - precision: 0.9542 - val_loss: 0.1202 - val_accuracy: 0.9550 - val_auc: 0.9921 - val_recall: 0.9525 - val_precision: 0.9573 - lr: 1.0000e-05\n",
      "Epoch 28/35\n",
      "113/113 [==============================] - ETA: 0s - loss: 0.1137 - accuracy: 0.9567 - auc: 0.9923 - recall: 0.9561 - precision: 0.9566\n",
      "Epoch 28: ReduceLROnPlateau reducing learning rate to 1.0000000656873453e-06.\n",
      "113/113 [==============================] - 15s 129ms/step - loss: 0.1137 - accuracy: 0.9567 - auc: 0.9923 - recall: 0.9561 - precision: 0.9566 - val_loss: 0.0867 - val_accuracy: 0.9775 - val_auc: 0.9938 - val_recall: 0.9775 - val_precision: 0.9751 - lr: 1.0000e-05\n",
      "Epoch 29/35\n",
      "113/113 [==============================] - 14s 128ms/step - loss: 0.1084 - accuracy: 0.9558 - auc: 0.9929 - recall: 0.9556 - precision: 0.9569 - val_loss: 0.1025 - val_accuracy: 0.9750 - val_auc: 0.9905 - val_recall: 0.9750 - val_precision: 0.9750 - lr: 1.0000e-06\n",
      "Epoch 30/35\n",
      "113/113 [==============================] - 15s 128ms/step - loss: 0.1052 - accuracy: 0.9581 - auc: 0.9931 - recall: 0.9581 - precision: 0.9575 - val_loss: 0.0930 - val_accuracy: 0.9650 - val_auc: 0.9949 - val_recall: 0.9650 - val_precision: 0.9650 - lr: 1.0000e-06\n",
      "Epoch 31/35\n",
      "113/113 [==============================] - 15s 129ms/step - loss: 0.1141 - accuracy: 0.9544 - auc: 0.9922 - recall: 0.9533 - precision: 0.9544 - val_loss: 0.1012 - val_accuracy: 0.9675 - val_auc: 0.9914 - val_recall: 0.9675 - val_precision: 0.9675 - lr: 1.0000e-06\n",
      "Epoch 32/35\n",
      "113/113 [==============================] - 15s 128ms/step - loss: 0.1090 - accuracy: 0.9578 - auc: 0.9927 - recall: 0.9575 - precision: 0.9572 - val_loss: 0.1198 - val_accuracy: 0.9675 - val_auc: 0.9898 - val_recall: 0.9675 - val_precision: 0.9675 - lr: 1.0000e-06\n",
      "Epoch 33/35\n",
      "113/113 [==============================] - ETA: 0s - loss: 0.1094 - accuracy: 0.9558 - auc: 0.9922 - recall: 0.9556 - precision: 0.9558\n",
      "Epoch 33: ReduceLROnPlateau reducing learning rate to 1e-06.\n",
      "113/113 [==============================] - 15s 129ms/step - loss: 0.1094 - accuracy: 0.9558 - auc: 0.9922 - recall: 0.9556 - precision: 0.9558 - val_loss: 0.0809 - val_accuracy: 0.9625 - val_auc: 0.9960 - val_recall: 0.9625 - val_precision: 0.9625 - lr: 1.0000e-06\n",
      "Epoch 34/35\n",
      "113/113 [==============================] - 15s 128ms/step - loss: 0.1069 - accuracy: 0.9556 - auc: 0.9929 - recall: 0.9558 - precision: 0.9558 - val_loss: 0.0737 - val_accuracy: 0.9650 - val_auc: 0.9967 - val_recall: 0.9650 - val_precision: 0.9650 - lr: 1.0000e-06\n",
      "Epoch 35/35\n",
      "113/113 [==============================] - 15s 129ms/step - loss: 0.1105 - accuracy: 0.9553 - auc: 0.9923 - recall: 0.9556 - precision: 0.9553 - val_loss: 0.0695 - val_accuracy: 0.9800 - val_auc: 0.9968 - val_recall: 0.9800 - val_precision: 0.9800 - lr: 1.0000e-06\n"
     ]
    }
   ],
   "source": [
    "mobilenet_history = mobilenet_final_model.fit(train_ds,\n",
    "                                epochs = epoch,\n",
    "                                validation_data = val_ds,\n",
    "                                callbacks=callbacks,\n",
    "                                verbose=1)"
   ]
  },
  {
   "cell_type": "code",
   "execution_count": 26,
   "id": "833ea1d5",
   "metadata": {},
   "outputs": [
    {
     "data": {
      "image/png": "[encoded data removed]",
      "text/plain": [
       "<Figure size 432x288 with 1 Axes>"
      ]
     },
     "metadata": {
      "needs_background": "light"
     },
     "output_type": "display_data"
    },
    {
     "data": {
      "image/png": "[encoded data removed]",
      "text/plain": [
       "<Figure size 432x288 with 1 Axes>"
      ]
     },
     "metadata": {
      "needs_background": "light"
     },
     "output_type": "display_data"
    },
    {
     "data": {
      "text/plain": [
       "<Figure size 432x288 with 0 Axes>"
      ]
     },
     "metadata": {},
     "output_type": "display_data"
    }
   ],
   "source": [
    "# plot the loss\n",
    "plt.plot(mobilenet_history.history['loss'], label='train loss')\n",
    "plt.plot(mobilenet_history.history['val_loss'], label='val loss')\n",
    "plt.legend()\n",
    "plt.show()\n",
    "plt.savefig('LossVal_loss')\n",
    "\n",
    "# plot the accuracy\n",
    "plt.plot(mobilenet_history.history['accuracy'], label='train acc')\n",
    "plt.plot(mobilenet_history.history['val_accuracy'], label='val acc')\n",
    "plt.legend()\n",
    "plt.show()\n",
    "plt.savefig('AccVal_acc')"
   ]
  },
  {
   "cell_type": "code",
   "execution_count": 27,
   "id": "de9c944e",
   "metadata": {},
   "outputs": [],
   "source": [
    "labels_pred= mobilenet_final_model.predict(test_ds)"
   ]
  },
  {
   "cell_type": "code",
   "execution_count": 28,
   "id": "307b02bc",
   "metadata": {},
   "outputs": [],
   "source": [
    "y_pred = tf.argmax(labels_pred, axis=1)\n",
    "# y_pred"
   ]
  },
  {
   "cell_type": "code",
   "execution_count": 29,
   "id": "e2f2969f",
   "metadata": {},
   "outputs": [],
   "source": [
    "y_true = tf.argmax(y_test, axis = 1)\n",
    "# y_true"
   ]
  },
  {
   "cell_type": "code",
   "execution_count": 30,
   "id": "28ece2e6",
   "metadata": {},
   "outputs": [
    {
     "name": "stdout",
     "output_type": "stream",
     "text": [
      "              precision    recall  f1-score   support\n",
      "\n",
      "     healthy       0.87      0.98      0.92       600\n",
      "   unhealthy       0.98      0.85      0.91       600\n",
      "\n",
      "    accuracy                           0.92      1200\n",
      "   macro avg       0.92      0.92      0.92      1200\n",
      "weighted avg       0.92      0.92      0.92      1200\n",
      "\n"
     ]
    },
    {
     "data": {
      "image/png": "[encoded data removed]",
      "text/plain": [
       "<Figure size 432x288 with 2 Axes>"
      ]
     },
     "metadata": {
      "needs_background": "light"
     },
     "output_type": "display_data"
    }
   ],
   "source": [
    "print(classification_report(y_true, y_pred, target_names=labels))\n",
    "ConfusionMatrixDisplay.from_predictions(y_true, y_pred, display_labels=labels)\n",
    "plt.show()"
   ]
  },
  {
   "cell_type": "code",
   "execution_count": null,
   "id": "2ff7422a",
   "metadata": {},
   "outputs": [],
   "source": []
  }
 ],
 "metadata": {
  "kernelspec": {
   "display_name": "Python 3 (ipykernel)",
   "language": "python",
   "name": "python3"
  },
  "language_info": {
   "codemirror_mode": {
    "name": "ipython",
    "version": 3
   },
   "file_extension": ".py",
   "mimetype": "text/x-python",
   "name": "python",
   "nbconvert_exporter": "python",
   "pygments_lexer": "ipython3",
   "version": "3.9.12"
  }
 },
 "nbformat": 4,
 "nbformat_minor": 5
}
