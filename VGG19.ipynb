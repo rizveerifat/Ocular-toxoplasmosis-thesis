{
 "cells": [
  {
   "cell_type": "code",
   "execution_count": 1,
   "id": "de05b804",
   "metadata": {},
   "outputs": [],
   "source": [
    "import numpy as np \n",
    "import pandas as pd \n",
    "import random\n",
    "import io\n",
    "import os\n",
    "import cv2\n",
    "import matplotlib.pyplot as plt\n",
    "import seaborn as sns\n",
    "import time\n",
    "from tqdm import tqdm\n",
    "from sklearn.metrics import classification_report,confusion_matrix,ConfusionMatrixDisplay\n",
    "from sklearn.metrics import roc_auc_score,cohen_kappa_score,matthews_corrcoef\n",
    "from sklearn.model_selection import train_test_split\n",
    "from IPython.display import Image,display,clear_output\n",
    "import pywt\n",
    "\n",
    "import tensorflow as tf\n",
    "from keras.utils.vis_utils import plot_model\n",
    "from sklearn.metrics import classification_report\n",
    "from sklearn.utils import shuffle\n",
    "from tensorflow.keras.utils import to_categorical\n",
    "from sklearn.preprocessing import LabelEncoder\n",
    "from collections import Counter\n",
    "\n",
    "import keras\n",
    "from tensorflow.keras import layers\n",
    "from tensorflow.keras.utils import plot_model\n",
    "from tensorflow.keras.callbacks import ReduceLROnPlateau, CSVLogger\n",
    "from tensorflow.keras.applications.vgg19 import VGG19 , preprocess_input\n",
    "\n",
    "from tensorflow.keras import Model, layers\n",
    "from tensorflow.keras import models\n",
    "from tensorflow.keras.models import Sequential\n",
    "from tensorflow.keras.preprocessing.image import ImageDataGenerator\n",
    "from tensorflow.keras.optimizers import Adam, SGD\n",
    "from tensorflow.keras.layers import Dropout,Dense,Input,Conv2D,MaxPooling2D,Flatten,Activation"
   ]
  },
  {
   "cell_type": "code",
   "execution_count": 2,
   "id": "5096f2cf",
   "metadata": {},
   "outputs": [],
   "source": [
    "import warnings\n",
    "warnings.filterwarnings('ignore')"
   ]
  },
  {
   "cell_type": "code",
   "execution_count": 3,
   "id": "4441554f",
   "metadata": {},
   "outputs": [
    {
     "name": "stdout",
     "output_type": "stream",
     "text": [
      "Number of images in training:  4000\n",
      "Number of images in testing:  1200\n"
     ]
    },
    {
     "data": {
      "image/png": "[encoded data removed]",
      "text/plain": [
       "<Figure size 864x360 with 2 Axes>"
      ]
     },
     "metadata": {
      "needs_background": "light"
     },
     "output_type": "display_data"
    }
   ],
   "source": [
    "root_path = 'D:\\\\Prionto\\\\'\n",
    "labels = []\n",
    "trainFolder = root_path+'\\\\Train\\\\'\n",
    "testFolder = root_path+'\\\\Test\\\\'\n",
    "\n",
    "quantity_tr = {} \n",
    "quantity_te = {}\n",
    "for folder in os.listdir(trainFolder):\n",
    "    quantity_tr[folder] = len(os.listdir(trainFolder+folder))\n",
    "    labels.append(folder)\n",
    "    \n",
    "for folder in os.listdir(testFolder):\n",
    "    quantity_te[folder] = len(os.listdir(testFolder+folder))\n",
    "    \n",
    "    \n",
    "quantity_train = pd.DataFrame(list(quantity_tr.items()),\n",
    "                              index=range(0,len(quantity_tr)), columns=['class','count'])\n",
    "\n",
    "quantity_test = pd.DataFrame(list(quantity_te.items()),\n",
    "                              index=range(0,len(quantity_te)), columns=['class','count'])\n",
    "\n",
    "figure, ax = plt.subplots(1,2,figsize=(12,5))\n",
    "sns.barplot(x='class',y='count',data=quantity_train,ax=ax[0])\n",
    "sns.barplot(x='class',y='count',data=quantity_test,ax=ax[1])\n",
    "\n",
    "print(\"Number of images in training: \", sum(quantity_tr.values()))\n",
    "print(\"Number of images in testing: \", sum(quantity_te.values()))\n",
    "\n",
    "plt.show()"
   ]
  },
  {
   "cell_type": "code",
   "execution_count": 4,
   "id": "06a2c2ba",
   "metadata": {},
   "outputs": [
    {
     "data": {
      "text/plain": [
       "['healthy', 'unhealthy']"
      ]
     },
     "execution_count": 4,
     "metadata": {},
     "output_type": "execute_result"
    }
   ],
   "source": [
    "img_height = img_width = 128\n",
    "batch_size = 32\n",
    "labels"
   ]
  },
  {
   "cell_type": "code",
   "execution_count": 5,
   "id": "48da66e7",
   "metadata": {},
   "outputs": [
    {
     "name": "stderr",
     "output_type": "stream",
     "text": [
      "100%|█████████████████████████████████████████████████████████████████████████████| 2000/2000 [00:05<00:00, 354.84it/s]\n",
      "100%|█████████████████████████████████████████████████████████████████████████████| 2000/2000 [00:04<00:00, 406.91it/s]\n",
      "100%|███████████████████████████████████████████████████████████████████████████████| 600/600 [00:03<00:00, 158.44it/s]\n",
      "100%|███████████████████████████████████████████████████████████████████████████████| 600/600 [00:02<00:00, 222.17it/s]\n"
     ]
    }
   ],
   "source": [
    "X_train = []\n",
    "y_train = []\n",
    "\n",
    "X_test = []\n",
    "y_test = []\n",
    "\n",
    "for i in labels:\n",
    "    folderPath = os.path.join(root_path,'Train',i)\n",
    "    for j in tqdm(os.listdir(folderPath)):\n",
    "        img = cv2.imread(os.path.join(folderPath,j), 1)\n",
    "        img = cv2.resize(img,(img_height, img_width))\n",
    "        X_train.append(img)\n",
    "        y_train.append(i)\n",
    "        \n",
    "for i in labels:\n",
    "    folderPath = os.path.join(root_path,'Test',i)\n",
    "    for j in tqdm(os.listdir(folderPath)):\n",
    "        img = cv2.imread(os.path.join(folderPath,j), 1)\n",
    "        img = cv2.resize(img,(img_height, img_width))\n",
    "        X_test.append(img)\n",
    "        y_test.append(i)"
   ]
  },
  {
   "cell_type": "code",
   "execution_count": 6,
   "id": "804bbb71",
   "metadata": {},
   "outputs": [],
   "source": [
    "X_train = np.array(X_train)\n",
    "y_train = np.array(y_train)\n",
    "\n",
    "X_test = np.array(X_test)\n",
    "y_test = np.array(y_test)"
   ]
  },
  {
   "cell_type": "code",
   "execution_count": 7,
   "id": "c73b8ba0",
   "metadata": {},
   "outputs": [
    {
     "name": "stdout",
     "output_type": "stream",
     "text": [
      "0 255\n"
     ]
    }
   ],
   "source": [
    "print(np.min(X_train), np.max(X_train))"
   ]
  },
  {
   "cell_type": "code",
   "execution_count": 8,
   "id": "25f56339",
   "metadata": {},
   "outputs": [],
   "source": [
    "X_train=X_train/255.0\n",
    "X_test=X_test/255.0"
   ]
  },
  {
   "cell_type": "code",
   "execution_count": 9,
   "id": "62057ce8",
   "metadata": {},
   "outputs": [
    {
     "name": "stdout",
     "output_type": "stream",
     "text": [
      "0.0 1.0\n"
     ]
    }
   ],
   "source": [
    "print(np.min(X_train), np.max(X_train))"
   ]
  },
  {
   "cell_type": "code",
   "execution_count": 10,
   "id": "16a3c90d",
   "metadata": {},
   "outputs": [
    {
     "name": "stdout",
     "output_type": "stream",
     "text": [
      "(4000, 128, 128, 3) (4000,)\n",
      "(1200, 128, 128, 3) (1200,)\n"
     ]
    }
   ],
   "source": [
    "print(X_train.shape, y_train.shape)\n",
    "print(X_test.shape, y_test.shape)"
   ]
  },
  {
   "cell_type": "code",
   "execution_count": 11,
   "id": "e8ef32cd",
   "metadata": {},
   "outputs": [],
   "source": [
    "X_train, y_train = shuffle(X_train, y_train, random_state=0)\n",
    "X_test, y_test = shuffle(X_test, y_test, random_state=0)"
   ]
  },
  {
   "cell_type": "code",
   "execution_count": 12,
   "id": "3d92f407",
   "metadata": {},
   "outputs": [],
   "source": [
    "y_train_new = []\n",
    "for i in y_train:\n",
    "    y_train_new.append(labels.index(i))\n",
    "y_train = y_train_new\n",
    "y_train = tf.keras.utils.to_categorical(y_train)\n",
    "\n",
    "y_test_new = []\n",
    "for i in y_test:\n",
    "    y_test_new.append(labels.index(i))\n",
    "y_test = y_test_new\n",
    "y_test = tf.keras.utils.to_categorical(y_test)"
   ]
  },
  {
   "cell_type": "code",
   "execution_count": 13,
   "id": "86882c72",
   "metadata": {},
   "outputs": [
    {
     "name": "stdout",
     "output_type": "stream",
     "text": [
      "(4000, 128, 128, 3) (4000, 2)\n",
      "(1200, 128, 128, 3) (1200, 2)\n"
     ]
    }
   ],
   "source": [
    "print(X_train.shape, y_train.shape)\n",
    "print(X_test.shape, y_test.shape)"
   ]
  },
  {
   "cell_type": "code",
   "execution_count": 14,
   "id": "8717e197",
   "metadata": {},
   "outputs": [],
   "source": [
    "train_datagen = ImageDataGenerator(        \n",
    "        fill_mode=\"nearest\",\n",
    "        shear_range=0.2,\n",
    "        zoom_range=0.2,\n",
    "        horizontal_flip=True,\n",
    "        validation_split=0.1\n",
    ")\n",
    "test_datagen = ImageDataGenerator()\n",
    "\n",
    "\n",
    "train_ds = train_datagen.flow(\n",
    "  X_train, y_train,\n",
    "  subset=\"training\",\n",
    "  shuffle=True,\n",
    "  batch_size=batch_size)"
   ]
  },
  {
   "cell_type": "code",
   "execution_count": 15,
   "id": "9ea40a3c",
   "metadata": {},
   "outputs": [],
   "source": [
    "test_ds = test_datagen.flow(\n",
    "  X_test, y_test,\n",
    "  shuffle=False,\n",
    "  batch_size=batch_size)"
   ]
  },
  {
   "cell_type": "code",
   "execution_count": 16,
   "id": "fecadc57",
   "metadata": {},
   "outputs": [],
   "source": [
    "val_ds = train_datagen.flow(\n",
    "  X_train, y_train,\n",
    "  subset=\"validation\",\n",
    "  shuffle=True,\n",
    "  batch_size=batch_size)"
   ]
  },
  {
   "cell_type": "code",
   "execution_count": 17,
   "id": "015fe50a",
   "metadata": {},
   "outputs": [
    {
     "data": {
      "text/plain": [
       "{0: 'healthy', 1: 'unhealthy'}"
      ]
     },
     "execution_count": 17,
     "metadata": {},
     "output_type": "execute_result"
    }
   ],
   "source": [
    "j = 0\n",
    "class_mapping = {}\n",
    "for i in labels:\n",
    "    class_mapping[j] = i\n",
    "    j+=1\n",
    "    \n",
    "class_mapping"
   ]
  },
  {
   "cell_type": "code",
   "execution_count": 18,
   "id": "d0f8b5d3",
   "metadata": {},
   "outputs": [],
   "source": [
    "def show_few_images(number_of_examples=2, predict_using_model=None):\n",
    "    figure1, ax1 = plt.subplots(number_of_examples,len(os.listdir(testFolder)), figsize=(20,4*number_of_examples))\n",
    "    ax1 = ax1.reshape(-1)\n",
    "    axoff_fun = np.vectorize(lambda ax:ax.axis('off'))\n",
    "    axoff_fun(ax1)\n",
    "    axs = 0\n",
    "    for i, folder in enumerate(os.listdir(testFolder)):\n",
    "        image_ids = os.listdir(os.path.join(testFolder,folder))\n",
    "        for j in [random.randrange(0, len(image_ids)) for i in range(0,number_of_examples)]:\n",
    "            \n",
    "            display = cv2.imread(os.path.join(testFolder,folder,image_ids[j]),1)\n",
    "            display = cv2.resize(display, (img_height, img_width))/255.0\n",
    "            plt.axis('off')\n",
    "            ax1[axs].imshow(display)\n",
    "            title = 'True: '+folder\n",
    "            if(predict_using_model):\n",
    "                result = predict_using_model.predict(np.array([display]))\n",
    "                #print(result)\n",
    "                acc = str(round(np.max(result)*100, 3))\n",
    "                predicted_classname = class_mapping[np.argmax(result)]\n",
    "                title = title+'\\nPrediction : '+predicted_classname+\" - \"+acc+\"%\"\n",
    "            ax1[axs].set_title(title)\n",
    "            axs=axs+1"
   ]
  },
  {
   "cell_type": "code",
   "execution_count": 19,
   "id": "47eda9b4",
   "metadata": {},
   "outputs": [
    {
     "name": "stdout",
     "output_type": "stream",
     "text": [
      "(32, 128, 128, 3)\n",
      "(32, 2)\n"
     ]
    }
   ],
   "source": [
    "for image_batch, labels_batch in train_ds:\n",
    "    print(image_batch.shape)\n",
    "    print(labels_batch.shape)\n",
    "    break"
   ]
  },
  {
   "cell_type": "code",
   "execution_count": 20,
   "id": "396a481f",
   "metadata": {},
   "outputs": [],
   "source": [
    "tf.keras.backend.clear_session()\n",
    "epoch = 35"
   ]
  },
  {
   "cell_type": "code",
   "execution_count": 21,
   "id": "77f560cc",
   "metadata": {
    "scrolled": true
   },
   "outputs": [
    {
     "name": "stdout",
     "output_type": "stream",
     "text": [
      "Model: \"model\"\n",
      "_________________________________________________________________\n",
      " Layer (type)                Output Shape              Param #   \n",
      "=================================================================\n",
      " input_1 (InputLayer)        [(None, 128, 128, 3)]     0         \n",
      "                                                                 \n",
      " block1_conv1 (Conv2D)       (None, 128, 128, 64)      1792      \n",
      "                                                                 \n",
      " block1_conv2 (Conv2D)       (None, 128, 128, 64)      36928     \n",
      "                                                                 \n",
      " block1_pool (MaxPooling2D)  (None, 64, 64, 64)        0         \n",
      "                                                                 \n",
      " block2_conv1 (Conv2D)       (None, 64, 64, 128)       73856     \n",
      "                                                                 \n",
      " block2_conv2 (Conv2D)       (None, 64, 64, 128)       147584    \n",
      "                                                                 \n",
      " block2_pool (MaxPooling2D)  (None, 32, 32, 128)       0         \n",
      "                                                                 \n",
      " block3_conv1 (Conv2D)       (None, 32, 32, 256)       295168    \n",
      "                                                                 \n",
      " block3_conv2 (Conv2D)       (None, 32, 32, 256)       590080    \n",
      "                                                                 \n",
      " block3_conv3 (Conv2D)       (None, 32, 32, 256)       590080    \n",
      "                                                                 \n",
      " block3_conv4 (Conv2D)       (None, 32, 32, 256)       590080    \n",
      "                                                                 \n",
      " block3_pool (MaxPooling2D)  (None, 16, 16, 256)       0         \n",
      "                                                                 \n",
      " block4_conv1 (Conv2D)       (None, 16, 16, 512)       1180160   \n",
      "                                                                 \n",
      " block4_conv2 (Conv2D)       (None, 16, 16, 512)       2359808   \n",
      "                                                                 \n",
      " block4_conv3 (Conv2D)       (None, 16, 16, 512)       2359808   \n",
      "                                                                 \n",
      " block4_conv4 (Conv2D)       (None, 16, 16, 512)       2359808   \n",
      "                                                                 \n",
      " block4_pool (MaxPooling2D)  (None, 8, 8, 512)         0         \n",
      "                                                                 \n",
      " block5_conv1 (Conv2D)       (None, 8, 8, 512)         2359808   \n",
      "                                                                 \n",
      " block5_conv2 (Conv2D)       (None, 8, 8, 512)         2359808   \n",
      "                                                                 \n",
      " block5_conv3 (Conv2D)       (None, 8, 8, 512)         2359808   \n",
      "                                                                 \n",
      " block5_conv4 (Conv2D)       (None, 8, 8, 512)         2359808   \n",
      "                                                                 \n",
      " block5_pool (MaxPooling2D)  (None, 4, 4, 512)         0         \n",
      "                                                                 \n",
      " flatten (Flatten)           (None, 8192)              0         \n",
      "                                                                 \n",
      " dense (Dense)               (None, 256)               2097408   \n",
      "                                                                 \n",
      " dropout (Dropout)           (None, 256)               0         \n",
      "                                                                 \n",
      " dense_1 (Dense)             (None, 2)                 514       \n",
      "                                                                 \n",
      "=================================================================\n",
      "Total params: 22,122,306\n",
      "Trainable params: 2,097,922\n",
      "Non-trainable params: 20,024,384\n",
      "_________________________________________________________________\n"
     ]
    }
   ],
   "source": [
    "def create_model(input_shape=(img_height, img_width, 3), n_classes = len(labels), optimizer='adam', fine_tune=0):\n",
    "    \n",
    "    conv_base = VGG19(include_top=False,\n",
    "                     weights='imagenet',\n",
    "                     input_shape=input_shape)\n",
    "   \n",
    "    if fine_tune > 0:\n",
    "        for layer in conv_base.layers[:-fine_tune]:\n",
    "            layer.trainable = False\n",
    "    else:\n",
    "        for layer in conv_base.layers:\n",
    "            layer.trainable = False\n",
    "\n",
    "    top_model = conv_base.output\n",
    "    top_model = Flatten(name=\"flatten\")(top_model)\n",
    "    top_model = Dense(256, activation='relu')(top_model)\n",
    "    top_model = Dropout(0.5)(top_model)\n",
    "    output_layer = Dense(n_classes, activation='sigmoid')(top_model)\n",
    "    \n",
    "    model = Model(inputs=conv_base.input, outputs=output_layer)\n",
    "\n",
    "    return model\n",
    "vgg19_final_model = create_model(fine_tune=0)\n",
    "vgg19_final_model.summary()"
   ]
  },
  {
   "cell_type": "code",
   "execution_count": 22,
   "id": "e5d2f73f",
   "metadata": {},
   "outputs": [],
   "source": [
    "callbacks = [\n",
    "tf.keras.callbacks.ReduceLROnPlateau(factor=0.1,\n",
    "                                     patience=5,\n",
    "                                     min_lr=0.000001,\n",
    "                                     verbose=1)]\n",
    "\n",
    "Metrics=['accuracy',\n",
    "         [tf.keras.metrics.AUC(name='auc')],\n",
    "         [tf.keras.metrics.Recall(name='recall')],\n",
    "         [tf.keras.metrics.Precision(name='precision')]]"
   ]
  },
  {
   "cell_type": "code",
   "execution_count": 23,
   "id": "0f913d7b",
   "metadata": {},
   "outputs": [],
   "source": [
    "vgg19_final_model.compile(optimizer='adam', loss='binary_crossentropy',metrics=Metrics)"
   ]
  },
  {
   "cell_type": "code",
   "execution_count": 24,
   "id": "416af449",
   "metadata": {
    "scrolled": true
   },
   "outputs": [
    {
     "name": "stdout",
     "output_type": "stream",
     "text": [
      "Epoch 1/35\n",
      "113/113 [==============================] - 92s 810ms/step - loss: 0.6833 - accuracy: 0.6589 - auc: 0.6920 - recall: 0.6578 - precision: 0.6482 - val_loss: 0.5355 - val_accuracy: 0.7175 - val_auc: 0.8088 - val_recall: 0.7500 - val_precision: 0.6993 - lr: 0.0010\n",
      "Epoch 2/35\n",
      "113/113 [==============================] - 90s 798ms/step - loss: 0.4992 - accuracy: 0.7636 - auc: 0.8407 - recall: 0.7578 - precision: 0.7607 - val_loss: 0.4880 - val_accuracy: 0.7825 - val_auc: 0.8500 - val_recall: 0.7900 - val_precision: 0.7783 - lr: 0.0010\n",
      "Epoch 3/35\n",
      "113/113 [==============================] - 90s 796ms/step - loss: 0.4519 - accuracy: 0.7936 - auc: 0.8737 - recall: 0.7975 - precision: 0.7929 - val_loss: 0.3750 - val_accuracy: 0.8500 - val_auc: 0.9216 - val_recall: 0.8625 - val_precision: 0.8456 - lr: 0.0010\n",
      "Epoch 4/35\n",
      "113/113 [==============================] - 94s 830ms/step - loss: 0.4207 - accuracy: 0.8156 - auc: 0.8899 - recall: 0.8161 - precision: 0.8143 - val_loss: 0.3639 - val_accuracy: 0.8550 - val_auc: 0.9308 - val_recall: 0.8575 - val_precision: 0.8554 - lr: 0.0010\n",
      "Epoch 5/35\n",
      "113/113 [==============================] - 92s 813ms/step - loss: 0.3910 - accuracy: 0.8375 - auc: 0.9076 - recall: 0.8386 - precision: 0.8356 - val_loss: 0.3709 - val_accuracy: 0.8300 - val_auc: 0.9199 - val_recall: 0.8400 - val_precision: 0.8296 - lr: 0.0010\n",
      "Epoch 6/35\n",
      "113/113 [==============================] - 93s 826ms/step - loss: 0.3673 - accuracy: 0.8397 - auc: 0.9183 - recall: 0.8411 - precision: 0.8413 - val_loss: 0.3244 - val_accuracy: 0.8625 - val_auc: 0.9355 - val_recall: 0.8625 - val_precision: 0.8625 - lr: 0.0010\n",
      "Epoch 7/35\n",
      "113/113 [==============================] - 91s 805ms/step - loss: 0.3547 - accuracy: 0.8467 - auc: 0.9234 - recall: 0.8472 - precision: 0.8458 - val_loss: 0.3055 - val_accuracy: 0.8600 - val_auc: 0.9465 - val_recall: 0.8650 - val_precision: 0.8586 - lr: 0.0010\n",
      "Epoch 8/35\n",
      "113/113 [==============================] - 91s 802ms/step - loss: 0.3613 - accuracy: 0.8439 - auc: 0.9207 - recall: 0.8419 - precision: 0.8462 - val_loss: 0.3343 - val_accuracy: 0.8375 - val_auc: 0.9315 - val_recall: 0.8375 - val_precision: 0.8375 - lr: 0.0010\n",
      "Epoch 9/35\n",
      "113/113 [==============================] - 91s 803ms/step - loss: 0.3496 - accuracy: 0.8425 - auc: 0.9264 - recall: 0.8425 - precision: 0.8425 - val_loss: 0.2904 - val_accuracy: 0.8925 - val_auc: 0.9523 - val_recall: 0.8925 - val_precision: 0.8903 - lr: 0.0010\n",
      "Epoch 10/35\n",
      "113/113 [==============================] - 90s 800ms/step - loss: 0.3245 - accuracy: 0.8525 - auc: 0.9363 - recall: 0.8525 - precision: 0.8530 - val_loss: 0.3011 - val_accuracy: 0.8700 - val_auc: 0.9501 - val_recall: 0.8625 - val_precision: 0.8756 - lr: 0.0010\n",
      "Epoch 11/35\n",
      "113/113 [==============================] - 90s 796ms/step - loss: 0.3264 - accuracy: 0.8556 - auc: 0.9343 - recall: 0.8550 - precision: 0.8560 - val_loss: 0.2872 - val_accuracy: 0.8825 - val_auc: 0.9521 - val_recall: 0.8825 - val_precision: 0.8825 - lr: 0.0010\n",
      "Epoch 12/35\n",
      "113/113 [==============================] - 90s 795ms/step - loss: 0.3126 - accuracy: 0.8597 - auc: 0.9399 - recall: 0.8592 - precision: 0.8589 - val_loss: 0.2792 - val_accuracy: 0.8900 - val_auc: 0.9520 - val_recall: 0.8900 - val_precision: 0.8878 - lr: 0.0010\n",
      "Epoch 13/35\n",
      "113/113 [==============================] - 91s 810ms/step - loss: 0.3198 - accuracy: 0.8597 - auc: 0.9371 - recall: 0.8594 - precision: 0.8606 - val_loss: 0.2822 - val_accuracy: 0.8875 - val_auc: 0.9561 - val_recall: 0.8875 - val_precision: 0.8875 - lr: 0.0010\n",
      "Epoch 14/35\n",
      "113/113 [==============================] - 90s 799ms/step - loss: 0.2968 - accuracy: 0.8697 - auc: 0.9470 - recall: 0.8694 - precision: 0.8697 - val_loss: 0.2594 - val_accuracy: 0.8850 - val_auc: 0.9607 - val_recall: 0.8850 - val_precision: 0.8850 - lr: 0.0010\n",
      "Epoch 15/35\n",
      "113/113 [==============================] - 90s 799ms/step - loss: 0.2966 - accuracy: 0.8725 - auc: 0.9477 - recall: 0.8719 - precision: 0.8727 - val_loss: 0.2625 - val_accuracy: 0.9075 - val_auc: 0.9576 - val_recall: 0.9075 - val_precision: 0.9075 - lr: 0.0010\n",
      "Epoch 16/35\n",
      "113/113 [==============================] - 93s 819ms/step - loss: 0.3102 - accuracy: 0.8644 - auc: 0.9416 - recall: 0.8653 - precision: 0.8653 - val_loss: 0.2896 - val_accuracy: 0.8875 - val_auc: 0.9541 - val_recall: 0.8900 - val_precision: 0.8878 - lr: 0.0010\n",
      "Epoch 17/35\n",
      "113/113 [==============================] - 90s 799ms/step - loss: 0.3101 - accuracy: 0.8556 - auc: 0.9411 - recall: 0.8561 - precision: 0.8554 - val_loss: 0.2588 - val_accuracy: 0.9025 - val_auc: 0.9622 - val_recall: 0.9025 - val_precision: 0.9025 - lr: 0.0010\n",
      "Epoch 18/35\n",
      "113/113 [==============================] - 90s 797ms/step - loss: 0.2962 - accuracy: 0.8700 - auc: 0.9470 - recall: 0.8700 - precision: 0.8705 - val_loss: 0.2504 - val_accuracy: 0.8900 - val_auc: 0.9624 - val_recall: 0.8900 - val_precision: 0.8900 - lr: 0.0010\n",
      "Epoch 19/35\n",
      "113/113 [==============================] - 90s 798ms/step - loss: 0.2783 - accuracy: 0.8786 - auc: 0.9532 - recall: 0.8786 - precision: 0.8786 - val_loss: 0.2506 - val_accuracy: 0.8800 - val_auc: 0.9619 - val_recall: 0.8800 - val_precision: 0.8800 - lr: 0.0010\n",
      "Epoch 20/35\n",
      "113/113 [==============================] - 91s 810ms/step - loss: 0.2764 - accuracy: 0.8772 - auc: 0.9539 - recall: 0.8775 - precision: 0.8773 - val_loss: 0.2932 - val_accuracy: 0.8600 - val_auc: 0.9558 - val_recall: 0.8625 - val_precision: 0.8603 - lr: 0.0010\n",
      "Epoch 21/35\n",
      "113/113 [==============================] - 90s 800ms/step - loss: 0.2879 - accuracy: 0.8736 - auc: 0.9501 - recall: 0.8739 - precision: 0.8736 - val_loss: 0.2358 - val_accuracy: 0.9100 - val_auc: 0.9693 - val_recall: 0.9100 - val_precision: 0.9100 - lr: 0.0010\n",
      "Epoch 22/35\n",
      "113/113 [==============================] - 91s 806ms/step - loss: 0.3013 - accuracy: 0.8694 - auc: 0.9455 - recall: 0.8694 - precision: 0.8694 - val_loss: 0.2494 - val_accuracy: 0.8850 - val_auc: 0.9634 - val_recall: 0.8850 - val_precision: 0.8850 - lr: 0.0010\n",
      "Epoch 23/35\n",
      "113/113 [==============================] - 93s 822ms/step - loss: 0.2868 - accuracy: 0.8775 - auc: 0.9505 - recall: 0.8775 - precision: 0.8775 - val_loss: 0.2783 - val_accuracy: 0.8925 - val_auc: 0.9520 - val_recall: 0.8925 - val_precision: 0.8925 - lr: 0.0010\n",
      "Epoch 24/35\n",
      "113/113 [==============================] - 96s 847ms/step - loss: 0.2905 - accuracy: 0.8689 - auc: 0.9493 - recall: 0.8689 - precision: 0.8689 - val_loss: 0.2058 - val_accuracy: 0.9200 - val_auc: 0.9763 - val_recall: 0.9200 - val_precision: 0.9200 - lr: 0.0010\n",
      "Epoch 25/35\n",
      "113/113 [==============================] - 94s 836ms/step - loss: 0.2938 - accuracy: 0.8706 - auc: 0.9475 - recall: 0.8706 - precision: 0.8706 - val_loss: 0.2433 - val_accuracy: 0.8875 - val_auc: 0.9638 - val_recall: 0.8875 - val_precision: 0.8875 - lr: 0.0010\n",
      "Epoch 26/35\n",
      "113/113 [==============================] - 96s 851ms/step - loss: 0.2818 - accuracy: 0.8722 - auc: 0.9509 - recall: 0.8722 - precision: 0.8722 - val_loss: 0.2552 - val_accuracy: 0.9025 - val_auc: 0.9601 - val_recall: 0.9025 - val_precision: 0.9025 - lr: 0.0010\n",
      "Epoch 27/35\n",
      "113/113 [==============================] - 90s 797ms/step - loss: 0.2858 - accuracy: 0.8697 - auc: 0.9504 - recall: 0.8697 - precision: 0.8697 - val_loss: 0.3136 - val_accuracy: 0.8475 - val_auc: 0.9383 - val_recall: 0.8475 - val_precision: 0.8475 - lr: 0.0010\n",
      "Epoch 28/35\n",
      "113/113 [==============================] - 91s 803ms/step - loss: 0.2976 - accuracy: 0.8644 - auc: 0.9461 - recall: 0.8644 - precision: 0.8644 - val_loss: 0.2559 - val_accuracy: 0.8700 - val_auc: 0.9616 - val_recall: 0.8700 - val_precision: 0.8700 - lr: 0.0010\n",
      "Epoch 29/35\n",
      "113/113 [==============================] - ETA: 0s - loss: 0.2810 - accuracy: 0.8733 - auc: 0.9514 - recall: 0.8733 - precision: 0.8733\n",
      "Epoch 29: ReduceLROnPlateau reducing learning rate to 0.00010000000474974513.\n",
      "113/113 [==============================] - 90s 800ms/step - loss: 0.2810 - accuracy: 0.8733 - auc: 0.9514 - recall: 0.8733 - precision: 0.8733 - val_loss: 0.2430 - val_accuracy: 0.9100 - val_auc: 0.9682 - val_recall: 0.9100 - val_precision: 0.9100 - lr: 0.0010\n",
      "Epoch 30/35\n",
      "113/113 [==============================] - 93s 819ms/step - loss: 0.2427 - accuracy: 0.8928 - auc: 0.9659 - recall: 0.8928 - precision: 0.8928 - val_loss: 0.2203 - val_accuracy: 0.9050 - val_auc: 0.9701 - val_recall: 0.9050 - val_precision: 0.9050 - lr: 1.0000e-04\n",
      "Epoch 31/35\n",
      "113/113 [==============================] - 95s 839ms/step - loss: 0.2598 - accuracy: 0.8892 - auc: 0.9607 - recall: 0.8892 - precision: 0.8892 - val_loss: 0.2309 - val_accuracy: 0.8950 - val_auc: 0.9690 - val_recall: 0.8950 - val_precision: 0.8950 - lr: 1.0000e-04\n",
      "Epoch 32/35\n",
      "113/113 [==============================] - 91s 804ms/step - loss: 0.2380 - accuracy: 0.8922 - auc: 0.9661 - recall: 0.8922 - precision: 0.8922 - val_loss: 0.2426 - val_accuracy: 0.8850 - val_auc: 0.9638 - val_recall: 0.8850 - val_precision: 0.8850 - lr: 1.0000e-04\n",
      "Epoch 33/35\n",
      "113/113 [==============================] - 97s 858ms/step - loss: 0.2418 - accuracy: 0.8919 - auc: 0.9657 - recall: 0.8919 - precision: 0.8919 - val_loss: 0.2454 - val_accuracy: 0.8975 - val_auc: 0.9629 - val_recall: 0.8975 - val_precision: 0.8975 - lr: 1.0000e-04\n",
      "Epoch 34/35\n",
      "113/113 [==============================] - 98s 871ms/step - loss: 0.2287 - accuracy: 0.8972 - auc: 0.9686 - recall: 0.8972 - precision: 0.8972 - val_loss: 0.2003 - val_accuracy: 0.9125 - val_auc: 0.9767 - val_recall: 0.9125 - val_precision: 0.9125 - lr: 1.0000e-04\n",
      "Epoch 35/35\n",
      "113/113 [==============================] - 99s 874ms/step - loss: 0.2436 - accuracy: 0.8906 - auc: 0.9639 - recall: 0.8906 - precision: 0.8906 - val_loss: 0.2484 - val_accuracy: 0.8900 - val_auc: 0.9622 - val_recall: 0.8900 - val_precision: 0.8900 - lr: 1.0000e-04\n"
     ]
    }
   ],
   "source": [
    "vgg19_history = vgg19_final_model.fit(train_ds,\n",
    "                                epochs = epoch,\n",
    "                                validation_data = val_ds,\n",
    "                                callbacks=callbacks,\n",
    "                                verbose=1)"
   ]
  },
  {
   "cell_type": "code",
   "execution_count": 25,
   "id": "833ea1d5",
   "metadata": {},
   "outputs": [
    {
     "data": {
      "image/png": "[encoded data removed]",
      "text/plain": [
       "<Figure size 432x288 with 1 Axes>"
      ]
     },
     "metadata": {
      "needs_background": "light"
     },
     "output_type": "display_data"
    },
    {
     "data": {
      "image/png": "[encoded data removed]",
      "text/plain": [
       "<Figure size 432x288 with 1 Axes>"
      ]
     },
     "metadata": {
      "needs_background": "light"
     },
     "output_type": "display_data"
    },
    {
     "data": {
      "text/plain": [
       "<Figure size 432x288 with 0 Axes>"
      ]
     },
     "metadata": {},
     "output_type": "display_data"
    }
   ],
   "source": [
    "# plot the loss\n",
    "plt.plot(vgg19_history.history['loss'], label='train loss')\n",
    "plt.plot(vgg19_history.history['val_loss'], label='val loss')\n",
    "plt.legend()\n",
    "plt.show()\n",
    "plt.savefig('LossVal_loss')\n",
    "\n",
    "# plot the accuracy\n",
    "plt.plot(vgg19_history.history['accuracy'], label='train acc')\n",
    "plt.plot(vgg19_history.history['val_accuracy'], label='val acc')\n",
    "plt.legend()\n",
    "plt.show()\n",
    "plt.savefig('AccVal_acc')"
   ]
  },
  {
   "cell_type": "code",
   "execution_count": 26,
   "id": "de9c944e",
   "metadata": {},
   "outputs": [],
   "source": [
    "labels_pred= vgg19_final_model.predict(test_ds)"
   ]
  },
  {
   "cell_type": "code",
   "execution_count": 27,
   "id": "307b02bc",
   "metadata": {},
   "outputs": [],
   "source": [
    "y_pred = tf.argmax(labels_pred, axis=1)\n",
    "# y_pred"
   ]
  },
  {
   "cell_type": "code",
   "execution_count": 28,
   "id": "e2f2969f",
   "metadata": {},
   "outputs": [],
   "source": [
    "y_true = tf.argmax(y_test, axis = 1)\n",
    "# y_true"
   ]
  },
  {
   "cell_type": "code",
   "execution_count": 29,
   "id": "28ece2e6",
   "metadata": {},
   "outputs": [
    {
     "name": "stdout",
     "output_type": "stream",
     "text": [
      "              precision    recall  f1-score   support\n",
      "\n",
      "     healthy       0.92      0.94      0.93       600\n",
      "   unhealthy       0.94      0.92      0.93       600\n",
      "\n",
      "    accuracy                           0.93      1200\n",
      "   macro avg       0.93      0.93      0.93      1200\n",
      "weighted avg       0.93      0.93      0.93      1200\n",
      "\n"
     ]
    },
    {
     "data": {
      "image/png": "[encoded data removed]",
      "text/plain": [
       "<Figure size 432x288 with 2 Axes>"
      ]
     },
     "metadata": {
      "needs_background": "light"
     },
     "output_type": "display_data"
    }
   ],
   "source": [
    "print(classification_report(y_true, y_pred, target_names=labels))\n",
    "ConfusionMatrixDisplay.from_predictions(y_true, y_pred, display_labels=labels)\n",
    "plt.show()"
   ]
  }
 ],
 "metadata": {
  "kernelspec": {
   "display_name": "Python 3 (ipykernel)",
   "language": "python",
   "name": "python3"
  },
  "language_info": {
   "codemirror_mode": {
    "name": "ipython",
    "version": 3
   },
   "file_extension": ".py",
   "mimetype": "text/x-python",
   "name": "python",
   "nbconvert_exporter": "python",
   "pygments_lexer": "ipython3",
   "version": "3.9.12"
  }
 },
 "nbformat": 4,
 "nbformat_minor": 5
}
